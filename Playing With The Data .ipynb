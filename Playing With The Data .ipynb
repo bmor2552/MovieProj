{
 "cells": [
  {
   "cell_type": "code",
   "execution_count": 28,
   "metadata": {},
   "outputs": [],
   "source": [
    "import pandas as pd\n",
    "import matplotlib.pyplot as plt\n",
    "%matplotlib inline\n",
    "import seaborn as sns \n",
    "import numpy as np\n",
    "import requests"
   ]
  },
  {
   "cell_type": "code",
   "execution_count": 19,
   "metadata": {
    "scrolled": true
   },
   "outputs": [
    {
     "name": "stdout",
     "output_type": "stream",
     "text": [
      "(7130, 14)\n"
     ]
    },
    {
     "data": {
      "text/html": [
       "<div>\n",
       "<style scoped>\n",
       "    .dataframe tbody tr th:only-of-type {\n",
       "        vertical-align: middle;\n",
       "    }\n",
       "\n",
       "    .dataframe tbody tr th {\n",
       "        vertical-align: top;\n",
       "    }\n",
       "\n",
       "    .dataframe thead th {\n",
       "        text-align: right;\n",
       "    }\n",
       "</style>\n",
       "<table border=\"1\" class=\"dataframe\">\n",
       "  <thead>\n",
       "    <tr style=\"text-align: right;\">\n",
       "      <th></th>\n",
       "      <th>popularity</th>\n",
       "      <th>vote_count</th>\n",
       "      <th>video</th>\n",
       "      <th>poster_path</th>\n",
       "      <th>id</th>\n",
       "      <th>adult</th>\n",
       "      <th>backdrop_path</th>\n",
       "      <th>original_language</th>\n",
       "      <th>original_title</th>\n",
       "      <th>genre_ids</th>\n",
       "      <th>title</th>\n",
       "      <th>vote_average</th>\n",
       "      <th>overview</th>\n",
       "      <th>release_date</th>\n",
       "    </tr>\n",
       "  </thead>\n",
       "  <tbody>\n",
       "    <tr>\n",
       "      <td>0</td>\n",
       "      <td>323.546</td>\n",
       "      <td>2478</td>\n",
       "      <td>False</td>\n",
       "      <td>/xBHvZcjRiWyobQ9kxBhO6B2dtRI.jpg</td>\n",
       "      <td>419704</td>\n",
       "      <td>False</td>\n",
       "      <td>/5BwqwxMEjeFtdknRV792Svo0K1v.jpg</td>\n",
       "      <td>en</td>\n",
       "      <td>Ad Astra</td>\n",
       "      <td>[12, 18, 9648, 878, 53]</td>\n",
       "      <td>Ad Astra</td>\n",
       "      <td>6.0</td>\n",
       "      <td>The near future, a time when both hope and har...</td>\n",
       "      <td>2019-09-17</td>\n",
       "    </tr>\n",
       "    <tr>\n",
       "      <td>1</td>\n",
       "      <td>233.733</td>\n",
       "      <td>1864</td>\n",
       "      <td>False</td>\n",
       "      <td>/bB42KDdfWkOvmzmYkmK58ZlCa9P.jpg</td>\n",
       "      <td>512200</td>\n",
       "      <td>False</td>\n",
       "      <td>/hreiLoPysWG79TsyQgMzFKaOTF5.jpg</td>\n",
       "      <td>en</td>\n",
       "      <td>Jumanji: The Next Level</td>\n",
       "      <td>[28, 12, 35, 14]</td>\n",
       "      <td>Jumanji: The Next Level</td>\n",
       "      <td>6.8</td>\n",
       "      <td>As the gang return to Jumanji to rescue one of...</td>\n",
       "      <td>2019-12-04</td>\n",
       "    </tr>\n",
       "    <tr>\n",
       "      <td>2</td>\n",
       "      <td>127.227</td>\n",
       "      <td>2591</td>\n",
       "      <td>False</td>\n",
       "      <td>/pjeMs3yqRmFL3giJy4PMXWZTTPa.jpg</td>\n",
       "      <td>330457</td>\n",
       "      <td>False</td>\n",
       "      <td>/xJWPZIYOEFIjZpBL7SVBGnzRYXp.jpg</td>\n",
       "      <td>en</td>\n",
       "      <td>Frozen II</td>\n",
       "      <td>[12, 16, 10751]</td>\n",
       "      <td>Frozen II</td>\n",
       "      <td>7.0</td>\n",
       "      <td>Elsa, Anna, Kristoff and Olaf head far into th...</td>\n",
       "      <td>2019-11-20</td>\n",
       "    </tr>\n",
       "    <tr>\n",
       "      <td>3</td>\n",
       "      <td>108.054</td>\n",
       "      <td>2469</td>\n",
       "      <td>False</td>\n",
       "      <td>/pThyQovXQrw2m0s9x82twj48Jq4.jpg</td>\n",
       "      <td>546554</td>\n",
       "      <td>False</td>\n",
       "      <td>/cjTQSwcsfVdirSFSHNBXRGkxmWa.jpg</td>\n",
       "      <td>en</td>\n",
       "      <td>Knives Out</td>\n",
       "      <td>[35, 80, 18, 9648, 53]</td>\n",
       "      <td>Knives Out</td>\n",
       "      <td>7.8</td>\n",
       "      <td>When renowned crime novelist Harlan Thrombey i...</td>\n",
       "      <td>2019-11-27</td>\n",
       "    </tr>\n",
       "    <tr>\n",
       "      <td>4</td>\n",
       "      <td>98.211</td>\n",
       "      <td>9521</td>\n",
       "      <td>False</td>\n",
       "      <td>/udDclJoHjfjb8Ekgsd4FDteOkCU.jpg</td>\n",
       "      <td>475557</td>\n",
       "      <td>False</td>\n",
       "      <td>/n6bUvigpRFqSwmPp1m2YADdbRBc.jpg</td>\n",
       "      <td>en</td>\n",
       "      <td>Joker</td>\n",
       "      <td>[80, 18, 53]</td>\n",
       "      <td>Joker</td>\n",
       "      <td>8.2</td>\n",
       "      <td>During the 1980s, a failed stand-up comedian i...</td>\n",
       "      <td>2019-10-02</td>\n",
       "    </tr>\n",
       "  </tbody>\n",
       "</table>\n",
       "</div>"
      ],
      "text/plain": [
       "   popularity  vote_count  video                       poster_path      id  \\\n",
       "0     323.546        2478  False  /xBHvZcjRiWyobQ9kxBhO6B2dtRI.jpg  419704   \n",
       "1     233.733        1864  False  /bB42KDdfWkOvmzmYkmK58ZlCa9P.jpg  512200   \n",
       "2     127.227        2591  False  /pjeMs3yqRmFL3giJy4PMXWZTTPa.jpg  330457   \n",
       "3     108.054        2469  False  /pThyQovXQrw2m0s9x82twj48Jq4.jpg  546554   \n",
       "4      98.211        9521  False  /udDclJoHjfjb8Ekgsd4FDteOkCU.jpg  475557   \n",
       "\n",
       "   adult                     backdrop_path original_language  \\\n",
       "0  False  /5BwqwxMEjeFtdknRV792Svo0K1v.jpg                en   \n",
       "1  False  /hreiLoPysWG79TsyQgMzFKaOTF5.jpg                en   \n",
       "2  False  /xJWPZIYOEFIjZpBL7SVBGnzRYXp.jpg                en   \n",
       "3  False  /cjTQSwcsfVdirSFSHNBXRGkxmWa.jpg                en   \n",
       "4  False  /n6bUvigpRFqSwmPp1m2YADdbRBc.jpg                en   \n",
       "\n",
       "            original_title                genre_ids                    title  \\\n",
       "0                 Ad Astra  [12, 18, 9648, 878, 53]                 Ad Astra   \n",
       "1  Jumanji: The Next Level         [28, 12, 35, 14]  Jumanji: The Next Level   \n",
       "2                Frozen II          [12, 16, 10751]                Frozen II   \n",
       "3               Knives Out   [35, 80, 18, 9648, 53]               Knives Out   \n",
       "4                    Joker             [80, 18, 53]                    Joker   \n",
       "\n",
       "   vote_average                                           overview  \\\n",
       "0           6.0  The near future, a time when both hope and har...   \n",
       "1           6.8  As the gang return to Jumanji to rescue one of...   \n",
       "2           7.0  Elsa, Anna, Kristoff and Olaf head far into th...   \n",
       "3           7.8  When renowned crime novelist Harlan Thrombey i...   \n",
       "4           8.2  During the 1980s, a failed stand-up comedian i...   \n",
       "\n",
       "  release_date  \n",
       "0   2019-09-17  \n",
       "1   2019-12-04  \n",
       "2   2019-11-20  \n",
       "3   2019-11-27  \n",
       "4   2019-10-02  "
      ]
     },
     "execution_count": 19,
     "metadata": {},
     "output_type": "execute_result"
    }
   ],
   "source": [
    "df = pd.read_csv('MostPopularMovies_89_19.csv')\n",
    "print(df.shape)\n",
    "df.head()\n"
   ]
  },
  {
   "cell_type": "code",
   "execution_count": 32,
   "metadata": {},
   "outputs": [],
   "source": [
    "# movie_id = df.id[:2]\n",
    "# for id_ in movie_id:\n",
    "#     movie_id_url = requests.get(f'https://api.themoviedb.org/3/movie/{movie_id}?api_key={api_key}&language=en-US')"
   ]
  },
  {
   "cell_type": "code",
   "execution_count": 21,
   "metadata": {},
   "outputs": [
    {
     "data": {
      "text/plain": [
       "<bound method IndexOpsMixin.value_counts of 0       2019-09-17\n",
       "1       2019-12-04\n",
       "2       2019-11-20\n",
       "3       2019-11-27\n",
       "4       2019-10-02\n",
       "           ...    \n",
       "7125    2018-08-17\n",
       "7126    2016-12-02\n",
       "7127    2016-02-19\n",
       "7128    2015-12-03\n",
       "7129    2009-04-02\n",
       "Name: release_date, Length: 7130, dtype: object>"
      ]
     },
     "execution_count": 21,
     "metadata": {},
     "output_type": "execute_result"
    }
   ],
   "source": [
    "df['release_date'].value_counts"
   ]
  },
  {
   "cell_type": "code",
   "execution_count": 3,
   "metadata": {},
   "outputs": [
    {
     "name": "stdout",
     "output_type": "stream",
     "text": [
      "<class 'pandas.core.frame.DataFrame'>\n",
      "RangeIndex: 7130 entries, 0 to 7129\n",
      "Data columns (total 14 columns):\n",
      "popularity           7130 non-null float64\n",
      "vote_count           7130 non-null int64\n",
      "video                7130 non-null bool\n",
      "poster_path          7130 non-null object\n",
      "id                   7130 non-null int64\n",
      "adult                7130 non-null bool\n",
      "backdrop_path        7130 non-null object\n",
      "original_language    7130 non-null object\n",
      "original_title       7130 non-null object\n",
      "genre_ids            7130 non-null object\n",
      "title                7130 non-null object\n",
      "vote_average         7130 non-null float64\n",
      "overview             7130 non-null object\n",
      "release_date         7130 non-null object\n",
      "dtypes: bool(2), float64(2), int64(2), object(8)\n",
      "memory usage: 682.5+ KB\n"
     ]
    }
   ],
   "source": [
    "df.info()"
   ]
  },
  {
   "cell_type": "code",
   "execution_count": 5,
   "metadata": {},
   "outputs": [
    {
     "data": {
      "text/plain": [
       "0"
      ]
     },
     "execution_count": 5,
     "metadata": {},
     "output_type": "execute_result"
    }
   ],
   "source": [
    "df.isna().sum().sum()"
   ]
  },
  {
   "cell_type": "code",
   "execution_count": 18,
   "metadata": {},
   "outputs": [
    {
     "data": {
      "text/html": [
       "<div>\n",
       "<style scoped>\n",
       "    .dataframe tbody tr th:only-of-type {\n",
       "        vertical-align: middle;\n",
       "    }\n",
       "\n",
       "    .dataframe tbody tr th {\n",
       "        vertical-align: top;\n",
       "    }\n",
       "\n",
       "    .dataframe thead th {\n",
       "        text-align: right;\n",
       "    }\n",
       "</style>\n",
       "<table border=\"1\" class=\"dataframe\">\n",
       "  <thead>\n",
       "    <tr style=\"text-align: right;\">\n",
       "      <th></th>\n",
       "      <th>popularity</th>\n",
       "      <th>vote_count</th>\n",
       "      <th>id</th>\n",
       "      <th>vote_average</th>\n",
       "    </tr>\n",
       "  </thead>\n",
       "  <tbody>\n",
       "    <tr>\n",
       "      <td>count</td>\n",
       "      <td>7130.000000</td>\n",
       "      <td>7130.000000</td>\n",
       "      <td>7130.000000</td>\n",
       "      <td>7130.000000</td>\n",
       "    </tr>\n",
       "    <tr>\n",
       "      <td>mean</td>\n",
       "      <td>25.931030</td>\n",
       "      <td>3597.239130</td>\n",
       "      <td>291930.569565</td>\n",
       "      <td>6.789565</td>\n",
       "    </tr>\n",
       "    <tr>\n",
       "      <td>std</td>\n",
       "      <td>29.161267</td>\n",
       "      <td>3365.923804</td>\n",
       "      <td>184977.847334</td>\n",
       "      <td>0.774244</td>\n",
       "    </tr>\n",
       "    <tr>\n",
       "      <td>min</td>\n",
       "      <td>1.769000</td>\n",
       "      <td>1011.000000</td>\n",
       "      <td>28.000000</td>\n",
       "      <td>4.300000</td>\n",
       "    </tr>\n",
       "    <tr>\n",
       "      <td>25%</td>\n",
       "      <td>13.851000</td>\n",
       "      <td>1584.000000</td>\n",
       "      <td>118340.000000</td>\n",
       "      <td>6.200000</td>\n",
       "    </tr>\n",
       "    <tr>\n",
       "      <td>50%</td>\n",
       "      <td>18.529500</td>\n",
       "      <td>2483.000000</td>\n",
       "      <td>335890.000000</td>\n",
       "      <td>6.700000</td>\n",
       "    </tr>\n",
       "    <tr>\n",
       "      <td>75%</td>\n",
       "      <td>27.318000</td>\n",
       "      <td>4029.000000</td>\n",
       "      <td>449562.000000</td>\n",
       "      <td>7.300000</td>\n",
       "    </tr>\n",
       "    <tr>\n",
       "      <td>max</td>\n",
       "      <td>323.546000</td>\n",
       "      <td>19816.000000</td>\n",
       "      <td>567609.000000</td>\n",
       "      <td>8.600000</td>\n",
       "    </tr>\n",
       "  </tbody>\n",
       "</table>\n",
       "</div>"
      ],
      "text/plain": [
       "        popularity    vote_count             id  vote_average\n",
       "count  7130.000000   7130.000000    7130.000000   7130.000000\n",
       "mean     25.931030   3597.239130  291930.569565      6.789565\n",
       "std      29.161267   3365.923804  184977.847334      0.774244\n",
       "min       1.769000   1011.000000      28.000000      4.300000\n",
       "25%      13.851000   1584.000000  118340.000000      6.200000\n",
       "50%      18.529500   2483.000000  335890.000000      6.700000\n",
       "75%      27.318000   4029.000000  449562.000000      7.300000\n",
       "max     323.546000  19816.000000  567609.000000      8.600000"
      ]
     },
     "execution_count": 18,
     "metadata": {},
     "output_type": "execute_result"
    }
   ],
   "source": [
    "df.describe()"
   ]
  },
  {
   "cell_type": "code",
   "execution_count": 9,
   "metadata": {},
   "outputs": [
    {
     "data": {
      "text/plain": [
       "99820"
      ]
     },
     "execution_count": 9,
     "metadata": {},
     "output_type": "execute_result"
    }
   ],
   "source": [
    "df.size"
   ]
  },
  {
   "cell_type": "code",
   "execution_count": 15,
   "metadata": {},
   "outputs": [
    {
     "data": {
      "text/plain": [
       "Index(['popularity', 'vote_count', 'video', 'poster_path', 'id', 'adult',\n",
       "       'backdrop_path', 'original_language', 'original_title', 'genre_ids',\n",
       "       'title', 'vote_average', 'overview', 'release_date'],\n",
       "      dtype='object')"
      ]
     },
     "execution_count": 15,
     "metadata": {},
     "output_type": "execute_result"
    }
   ],
   "source": [
    "df.columns"
   ]
  },
  {
   "cell_type": "markdown",
   "metadata": {},
   "source": [
    "## things I may want to take out \n",
    "* video\n",
    "* original title\n",
    "* poster path\n",
    "\n",
    "## edit\n",
    "\n",
    "*genre_id\n"
   ]
  },
  {
   "cell_type": "markdown",
   "metadata": {},
   "source": [
    "## loop \n",
    "1. for every id in my data frame i need to scrap revenue and budget\n",
    "\n",
    "(keep in mind some of the movies did not have this info avalible so you could temperarly drop for the sake of analysis .......maybe?)"
   ]
  },
  {
   "cell_type": "code",
   "execution_count": 25,
   "metadata": {},
   "outputs": [
    {
     "name": "stdout",
     "output_type": "stream",
     "text": [
      "419704\n",
      "512200\n"
     ]
    }
   ],
   "source": [
    "for i in df.id[:2]:\n",
    "    print(i)"
   ]
  },
  {
   "cell_type": "code",
   "execution_count": 33,
   "metadata": {},
   "outputs": [],
   "source": [
    "df2 = pd.read_csv('Movies_by_id.csv')"
   ]
  },
  {
   "cell_type": "code",
   "execution_count": 35,
   "metadata": {},
   "outputs": [
    {
     "name": "stdout",
     "output_type": "stream",
     "text": [
      "<class 'pandas.core.frame.DataFrame'>\n",
      "RangeIndex: 3667 entries, 0 to 3666\n",
      "Data columns (total 25 columns):\n",
      "adult                    3667 non-null bool\n",
      "backdrop_path            3667 non-null object\n",
      "belongs_to_collection    1357 non-null object\n",
      "budget                   3667 non-null int64\n",
      "genres                   3667 non-null object\n",
      "homepage                 2870 non-null object\n",
      "id                       3667 non-null int64\n",
      "imdb_id                  3667 non-null object\n",
      "original_language        3667 non-null object\n",
      "original_title           3667 non-null object\n",
      "overview                 3667 non-null object\n",
      "popularity               3667 non-null float64\n",
      "poster_path              3667 non-null object\n",
      "production_companies     3667 non-null object\n",
      "production_countries     3667 non-null object\n",
      "release_date             3667 non-null object\n",
      "revenue                  3667 non-null int64\n",
      "runtime                  3667 non-null int64\n",
      "spoken_languages         3667 non-null object\n",
      "status                   3667 non-null object\n",
      "tagline                  3396 non-null object\n",
      "title                    3667 non-null object\n",
      "video                    3667 non-null bool\n",
      "vote_average             3667 non-null float64\n",
      "vote_count               3667 non-null int64\n",
      "dtypes: bool(2), float64(2), int64(5), object(16)\n",
      "memory usage: 666.2+ KB\n"
     ]
    }
   ],
   "source": [
    "df2.info()"
   ]
  },
  {
   "cell_type": "code",
   "execution_count": 34,
   "metadata": {},
   "outputs": [
    {
     "data": {
      "text/html": [
       "<div>\n",
       "<style scoped>\n",
       "    .dataframe tbody tr th:only-of-type {\n",
       "        vertical-align: middle;\n",
       "    }\n",
       "\n",
       "    .dataframe tbody tr th {\n",
       "        vertical-align: top;\n",
       "    }\n",
       "\n",
       "    .dataframe thead th {\n",
       "        text-align: right;\n",
       "    }\n",
       "</style>\n",
       "<table border=\"1\" class=\"dataframe\">\n",
       "  <thead>\n",
       "    <tr style=\"text-align: right;\">\n",
       "      <th></th>\n",
       "      <th>adult</th>\n",
       "      <th>backdrop_path</th>\n",
       "      <th>belongs_to_collection</th>\n",
       "      <th>budget</th>\n",
       "      <th>genres</th>\n",
       "      <th>homepage</th>\n",
       "      <th>id</th>\n",
       "      <th>imdb_id</th>\n",
       "      <th>original_language</th>\n",
       "      <th>original_title</th>\n",
       "      <th>...</th>\n",
       "      <th>release_date</th>\n",
       "      <th>revenue</th>\n",
       "      <th>runtime</th>\n",
       "      <th>spoken_languages</th>\n",
       "      <th>status</th>\n",
       "      <th>tagline</th>\n",
       "      <th>title</th>\n",
       "      <th>video</th>\n",
       "      <th>vote_average</th>\n",
       "      <th>vote_count</th>\n",
       "    </tr>\n",
       "  </thead>\n",
       "  <tbody>\n",
       "    <tr>\n",
       "      <td>0</td>\n",
       "      <td>False</td>\n",
       "      <td>/cjTQSwcsfVdirSFSHNBXRGkxmWa.jpg</td>\n",
       "      <td>NaN</td>\n",
       "      <td>40000000</td>\n",
       "      <td>[{'id': 9648, 'name': 'Mystery'}, {'id': 53, '...</td>\n",
       "      <td>https://www.knivesout.movie/</td>\n",
       "      <td>546554</td>\n",
       "      <td>tt8946378</td>\n",
       "      <td>en</td>\n",
       "      <td>Knives Out</td>\n",
       "      <td>...</td>\n",
       "      <td>2019-11-27</td>\n",
       "      <td>163700000</td>\n",
       "      <td>131</td>\n",
       "      <td>[{'iso_639_1': 'es', 'name': 'Español'}, {'iso...</td>\n",
       "      <td>Released</td>\n",
       "      <td>Hell, any of them could have done it.</td>\n",
       "      <td>Knives Out</td>\n",
       "      <td>False</td>\n",
       "      <td>7.8</td>\n",
       "      <td>2488</td>\n",
       "    </tr>\n",
       "    <tr>\n",
       "      <td>1</td>\n",
       "      <td>False</td>\n",
       "      <td>/n6bUvigpRFqSwmPp1m2YADdbRBc.jpg</td>\n",
       "      <td>NaN</td>\n",
       "      <td>55000000</td>\n",
       "      <td>[{'id': 80, 'name': 'Crime'}, {'id': 53, 'name...</td>\n",
       "      <td>http://www.jokermovie.net/</td>\n",
       "      <td>475557</td>\n",
       "      <td>tt7286456</td>\n",
       "      <td>en</td>\n",
       "      <td>Joker</td>\n",
       "      <td>...</td>\n",
       "      <td>2019-10-02</td>\n",
       "      <td>1073698955</td>\n",
       "      <td>122</td>\n",
       "      <td>[{'iso_639_1': 'en', 'name': 'English'}]</td>\n",
       "      <td>Released</td>\n",
       "      <td>Put on a happy face.</td>\n",
       "      <td>Joker</td>\n",
       "      <td>False</td>\n",
       "      <td>8.2</td>\n",
       "      <td>9552</td>\n",
       "    </tr>\n",
       "    <tr>\n",
       "      <td>2</td>\n",
       "      <td>False</td>\n",
       "      <td>/riTANvQ8GKmQbgtC1ps3OfkU43A.jpg</td>\n",
       "      <td>{'id': 528, 'name': 'The Terminator Collection...</td>\n",
       "      <td>185000000</td>\n",
       "      <td>[{'id': 28, 'name': 'Action'}, {'id': 878, 'na...</td>\n",
       "      <td>https://www.paramountmovies.com/movies/termina...</td>\n",
       "      <td>290859</td>\n",
       "      <td>tt6450804</td>\n",
       "      <td>en</td>\n",
       "      <td>Terminator: Dark Fate</td>\n",
       "      <td>...</td>\n",
       "      <td>2019-10-23</td>\n",
       "      <td>233685077</td>\n",
       "      <td>128</td>\n",
       "      <td>[{'iso_639_1': 'en', 'name': 'English'}, {'iso...</td>\n",
       "      <td>Released</td>\n",
       "      <td>Welcome to the day after judgement day</td>\n",
       "      <td>Terminator: Dark Fate</td>\n",
       "      <td>False</td>\n",
       "      <td>6.3</td>\n",
       "      <td>1580</td>\n",
       "    </tr>\n",
       "    <tr>\n",
       "      <td>3</td>\n",
       "      <td>False</td>\n",
       "      <td>/bOGkgRGdhrBYJSLpXaxhXVstddV.jpg</td>\n",
       "      <td>{'id': 86311, 'name': 'The Avengers Collection...</td>\n",
       "      <td>300000000</td>\n",
       "      <td>[{'id': 12, 'name': 'Adventure'}, {'id': 28, '...</td>\n",
       "      <td>https://www.marvel.com/movies/avengers-infinit...</td>\n",
       "      <td>299536</td>\n",
       "      <td>tt4154756</td>\n",
       "      <td>en</td>\n",
       "      <td>Avengers: Infinity War</td>\n",
       "      <td>...</td>\n",
       "      <td>2018-04-25</td>\n",
       "      <td>2046239637</td>\n",
       "      <td>149</td>\n",
       "      <td>[{'iso_639_1': 'en', 'name': 'English'}, {'iso...</td>\n",
       "      <td>Released</td>\n",
       "      <td>An entire universe. Once and for all.</td>\n",
       "      <td>Avengers: Infinity War</td>\n",
       "      <td>False</td>\n",
       "      <td>8.3</td>\n",
       "      <td>16900</td>\n",
       "    </tr>\n",
       "    <tr>\n",
       "      <td>4</td>\n",
       "      <td>False</td>\n",
       "      <td>/cqa3sa4c4jevgnEJwq3CMF8UfTG.jpg</td>\n",
       "      <td>NaN</td>\n",
       "      <td>100000000</td>\n",
       "      <td>[{'id': 10752, 'name': 'War'}, {'id': 18, 'nam...</td>\n",
       "      <td>https://www.1917.movie/</td>\n",
       "      <td>530915</td>\n",
       "      <td>tt8579674</td>\n",
       "      <td>en</td>\n",
       "      <td>1917</td>\n",
       "      <td>...</td>\n",
       "      <td>2019-12-10</td>\n",
       "      <td>200483309</td>\n",
       "      <td>119</td>\n",
       "      <td>[{'iso_639_1': 'en', 'name': 'English'}, {'iso...</td>\n",
       "      <td>Released</td>\n",
       "      <td>Time is the enemy</td>\n",
       "      <td>1917</td>\n",
       "      <td>False</td>\n",
       "      <td>8.0</td>\n",
       "      <td>2974</td>\n",
       "    </tr>\n",
       "  </tbody>\n",
       "</table>\n",
       "<p>5 rows × 25 columns</p>\n",
       "</div>"
      ],
      "text/plain": [
       "   adult                     backdrop_path  \\\n",
       "0  False  /cjTQSwcsfVdirSFSHNBXRGkxmWa.jpg   \n",
       "1  False  /n6bUvigpRFqSwmPp1m2YADdbRBc.jpg   \n",
       "2  False  /riTANvQ8GKmQbgtC1ps3OfkU43A.jpg   \n",
       "3  False  /bOGkgRGdhrBYJSLpXaxhXVstddV.jpg   \n",
       "4  False  /cqa3sa4c4jevgnEJwq3CMF8UfTG.jpg   \n",
       "\n",
       "                               belongs_to_collection     budget  \\\n",
       "0                                                NaN   40000000   \n",
       "1                                                NaN   55000000   \n",
       "2  {'id': 528, 'name': 'The Terminator Collection...  185000000   \n",
       "3  {'id': 86311, 'name': 'The Avengers Collection...  300000000   \n",
       "4                                                NaN  100000000   \n",
       "\n",
       "                                              genres  \\\n",
       "0  [{'id': 9648, 'name': 'Mystery'}, {'id': 53, '...   \n",
       "1  [{'id': 80, 'name': 'Crime'}, {'id': 53, 'name...   \n",
       "2  [{'id': 28, 'name': 'Action'}, {'id': 878, 'na...   \n",
       "3  [{'id': 12, 'name': 'Adventure'}, {'id': 28, '...   \n",
       "4  [{'id': 10752, 'name': 'War'}, {'id': 18, 'nam...   \n",
       "\n",
       "                                            homepage      id    imdb_id  \\\n",
       "0                       https://www.knivesout.movie/  546554  tt8946378   \n",
       "1                         http://www.jokermovie.net/  475557  tt7286456   \n",
       "2  https://www.paramountmovies.com/movies/termina...  290859  tt6450804   \n",
       "3  https://www.marvel.com/movies/avengers-infinit...  299536  tt4154756   \n",
       "4                            https://www.1917.movie/  530915  tt8579674   \n",
       "\n",
       "  original_language          original_title  ... release_date     revenue  \\\n",
       "0                en              Knives Out  ...   2019-11-27   163700000   \n",
       "1                en                   Joker  ...   2019-10-02  1073698955   \n",
       "2                en   Terminator: Dark Fate  ...   2019-10-23   233685077   \n",
       "3                en  Avengers: Infinity War  ...   2018-04-25  2046239637   \n",
       "4                en                    1917  ...   2019-12-10   200483309   \n",
       "\n",
       "  runtime                                   spoken_languages    status  \\\n",
       "0     131  [{'iso_639_1': 'es', 'name': 'Español'}, {'iso...  Released   \n",
       "1     122           [{'iso_639_1': 'en', 'name': 'English'}]  Released   \n",
       "2     128  [{'iso_639_1': 'en', 'name': 'English'}, {'iso...  Released   \n",
       "3     149  [{'iso_639_1': 'en', 'name': 'English'}, {'iso...  Released   \n",
       "4     119  [{'iso_639_1': 'en', 'name': 'English'}, {'iso...  Released   \n",
       "\n",
       "                                  tagline                   title  video  \\\n",
       "0   Hell, any of them could have done it.              Knives Out  False   \n",
       "1                    Put on a happy face.                   Joker  False   \n",
       "2  Welcome to the day after judgement day   Terminator: Dark Fate  False   \n",
       "3   An entire universe. Once and for all.  Avengers: Infinity War  False   \n",
       "4                       Time is the enemy                    1917  False   \n",
       "\n",
       "  vote_average vote_count  \n",
       "0          7.8       2488  \n",
       "1          8.2       9552  \n",
       "2          6.3       1580  \n",
       "3          8.3      16900  \n",
       "4          8.0       2974  \n",
       "\n",
       "[5 rows x 25 columns]"
      ]
     },
     "execution_count": 34,
     "metadata": {},
     "output_type": "execute_result"
    }
   ],
   "source": [
    "df2.head()"
   ]
  },
  {
   "cell_type": "code",
   "execution_count": 90,
   "metadata": {},
   "outputs": [
    {
     "data": {
      "text/plain": [
       "\"[{'id': 80, 'name': 'Crime'}, {'id': 53, 'name': 'Thriller'}, {'id': 18, 'name': 'Drama'}]\""
      ]
     },
     "execution_count": 90,
     "metadata": {},
     "output_type": "execute_result"
    }
   ],
   "source": [
    "# movie_genres =  df2['genres'].unique()\n",
    "# for movie in movie_genres.items():\n",
    "#     print(movie['id'])\n",
    "\n",
    "\n",
    "# l = {'up': False, 'left': False, 'right': False}\n",
    "# a = []\n",
    "# for key, value in l.iteritems():\n",
    "#     temp = [key,value]\n",
    "#     a.append(temp)\n",
    "movie_genres =  df2['genres'].unique()\n",
    "# genres = []\n",
    "# for key, value in movie_genres:\n",
    "#     genre = [key,value]\n",
    "#     genres.append(genre)\n",
    "genres = list(movie_genres)\n",
    "genres[1]"
   ]
  },
  {
   "cell_type": "code",
   "execution_count": null,
   "metadata": {},
   "outputs": [],
   "source": []
  },
  {
   "cell_type": "code",
   "execution_count": null,
   "metadata": {},
   "outputs": [],
   "source": []
  },
  {
   "cell_type": "code",
   "execution_count": null,
   "metadata": {},
   "outputs": [],
   "source": []
  },
  {
   "cell_type": "code",
   "execution_count": null,
   "metadata": {},
   "outputs": [],
   "source": []
  },
  {
   "cell_type": "code",
   "execution_count": null,
   "metadata": {},
   "outputs": [],
   "source": []
  },
  {
   "cell_type": "code",
   "execution_count": null,
   "metadata": {},
   "outputs": [],
   "source": []
  },
  {
   "cell_type": "code",
   "execution_count": null,
   "metadata": {},
   "outputs": [],
   "source": []
  },
  {
   "cell_type": "code",
   "execution_count": null,
   "metadata": {},
   "outputs": [],
   "source": []
  },
  {
   "cell_type": "code",
   "execution_count": null,
   "metadata": {},
   "outputs": [],
   "source": []
  },
  {
   "cell_type": "code",
   "execution_count": null,
   "metadata": {},
   "outputs": [],
   "source": []
  },
  {
   "cell_type": "code",
   "execution_count": null,
   "metadata": {},
   "outputs": [],
   "source": []
  },
  {
   "cell_type": "code",
   "execution_count": null,
   "metadata": {},
   "outputs": [],
   "source": []
  },
  {
   "cell_type": "code",
   "execution_count": null,
   "metadata": {},
   "outputs": [],
   "source": []
  },
  {
   "cell_type": "code",
   "execution_count": null,
   "metadata": {},
   "outputs": [],
   "source": []
  },
  {
   "cell_type": "code",
   "execution_count": null,
   "metadata": {},
   "outputs": [],
   "source": []
  },
  {
   "cell_type": "code",
   "execution_count": null,
   "metadata": {},
   "outputs": [],
   "source": []
  },
  {
   "cell_type": "code",
   "execution_count": null,
   "metadata": {},
   "outputs": [],
   "source": []
  },
  {
   "cell_type": "code",
   "execution_count": null,
   "metadata": {},
   "outputs": [],
   "source": []
  },
  {
   "cell_type": "code",
   "execution_count": null,
   "metadata": {},
   "outputs": [],
   "source": []
  },
  {
   "cell_type": "code",
   "execution_count": null,
   "metadata": {},
   "outputs": [],
   "source": []
  },
  {
   "cell_type": "code",
   "execution_count": null,
   "metadata": {},
   "outputs": [],
   "source": []
  },
  {
   "cell_type": "code",
   "execution_count": null,
   "metadata": {},
   "outputs": [],
   "source": []
  },
  {
   "cell_type": "code",
   "execution_count": null,
   "metadata": {},
   "outputs": [],
   "source": []
  }
 ],
 "metadata": {
  "kernelspec": {
   "display_name": "Python 3",
   "language": "python",
   "name": "python3"
  },
  "language_info": {
   "codemirror_mode": {
    "name": "ipython",
    "version": 3
   },
   "file_extension": ".py",
   "mimetype": "text/x-python",
   "name": "python",
   "nbconvert_exporter": "python",
   "pygments_lexer": "ipython3",
   "version": "3.6.9"
  }
 },
 "nbformat": 4,
 "nbformat_minor": 2
}
