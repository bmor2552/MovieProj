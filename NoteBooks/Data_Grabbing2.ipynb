{
 "cells": [
  {
   "cell_type": "markdown",
   "metadata": {},
   "source": [
    "## Grabbing Data From The Movie DB API"
   ]
  },
  {
   "cell_type": "markdown",
   "metadata": {},
   "source": [
    "##  What Do I Want To Find "
   ]
  },
  {
   "cell_type": "markdown",
   "metadata": {},
   "source": [
    "The goal of this notebook is to acquire the following Using the API of The Movie DB: \n",
    "* Budget\n",
    "* Revenue\n",
    "* Year (top 10 movies from 1989-2019)\n",
    "* Genre\n",
    "\n",
    "To do this I need to request for the movies by its ID number and by a certain timeframe. Requesting for the movies this way will give me the info that I want. I will have to do it with 2 request. Last but not least I will create a dataframe to hold the data I grabbed. "
   ]
  },
  {
   "cell_type": "markdown",
   "metadata": {},
   "source": [
    "## Importing The Libraries Needed For API Data Scraping"
   ]
  },
  {
   "cell_type": "code",
   "execution_count": null,
   "metadata": {
    "scrolled": true
   },
   "outputs": [],
   "source": [
    "import pandas as pd\n",
    "from bs4 import BeautifulSoup\n",
    "import requests\n",
    "\n",
    "import json\n",
    "\n",
    "# This function will be used to access my API key saved on my computer in a JSON file\n",
    "\n",
    "def get_keys(path):\n",
    "    with open(path) as f:\n",
    "        return json.load(f)"
   ]
  },
  {
   "cell_type": "markdown",
   "metadata": {},
   "source": [
    "## Using my get_keys() Function to Access the JSON File to Then Return the Context of That File:"
   ]
  },
  {
   "cell_type": "code",
   "execution_count": null,
   "metadata": {},
   "outputs": [],
   "source": [
    "keys = get_keys(\"/Users/boimoriba/.secret/eyes.json\")"
   ]
  },
  {
   "cell_type": "markdown",
   "metadata": {},
   "source": [
    "## Assigning my  API Key I Retrieved by Accessing The Dictionary Value to a Variable:"
   ]
  },
  {
   "cell_type": "code",
   "execution_count": null,
   "metadata": {},
   "outputs": [],
   "source": [
    "api_key = keys['the_m_db']"
   ]
  },
  {
   "cell_type": "markdown",
   "metadata": {},
   "source": [
    "## Grabbing Movies That Were Voted the Most Popular:"
   ]
  },
  {
   "cell_type": "code",
   "execution_count": null,
   "metadata": {},
   "outputs": [],
   "source": [
    "# I used an f'string to apply my api_key variable to the URL vs exposing my actual api key\n",
    "html_page = requests.get(f'https://api.themoviedb.org/3/discover/movie?api_key={api_key}&language=en-US&sort_by=popularity.desc&include_adult=false&include_video=false&page=1&year=2019&vote_count.gte=1000&with_original_language=en') # Make a get request to retrieve the page\n"
   ]
  },
  {
   "cell_type": "markdown",
   "metadata": {},
   "source": [
    "## Check Status"
   ]
  },
  {
   "cell_type": "code",
   "execution_count": null,
   "metadata": {},
   "outputs": [],
   "source": [
    "# Checking to see if my api request went through 'ok'\n",
    "html_page.status_code == requests.codes.ok"
   ]
  },
  {
   "cell_type": "markdown",
   "metadata": {},
   "source": [
    "## Response Contents\n"
   ]
  },
  {
   "cell_type": "code",
   "execution_count": null,
   "metadata": {},
   "outputs": [],
   "source": [
    "'''In this outside of this for loop I created three empty list\n",
    "timeframe_list =[] Holds the list of movies from 1989 - 2019\n",
    "results_list = [] Holds the pages of the results of movies that are in the time frame list\n",
    "titles_list = [] Holds the title of the movies in the results list'''\n",
    "\n",
    "timeframe_list =[]\n",
    "results_list = []\n",
    "titles_list = []\n",
    "\n",
    "'''In the for loop below I am requesting for movis in every year within 1989 - 2019\n",
    "that are voted the best with my imported api key.\n",
    "In the f string you will see that I also looped through the pages of the results. \n",
    "This means I want the results from the pages 1-12 instead of just the first page'''\n",
    "\n",
    "for year in range(1989, 2020):\n",
    "\n",
    "\n",
    "\n",
    "    for page in range(1,13):\n",
    "            url = (f'https://api.themoviedb.org/3/discover/movie?api_key={api_key}&language=en-US&sort_by=popularity.desc&include_adult=false&include_video=false&page={page}&year=2019&vote_count.gte=1000&with_original_language=en') \n",
    "            html_page = requests.get(url)    \n",
    "            pop_movies_pages= html_page.json()['results']\n",
    "\n",
    "            for movie in pop_movies_pages:\n",
    "                title = movie['title']\n",
    "                titles_list.append(title)\n",
    "                results_list.append(movie)"
   ]
  },
  {
   "cell_type": "code",
   "execution_count": null,
   "metadata": {},
   "outputs": [],
   "source": [
    "df = pd.DataFrame(results_list) # creating my dataFrame and setting it = to the results I get from the loop above "
   ]
  },
  {
   "cell_type": "code",
   "execution_count": null,
   "metadata": {},
   "outputs": [],
   "source": [
    "df.to_csv('MostPopularMovies_89_19.csv', index=False) # saving dataframe into a csv file"
   ]
  },
  {
   "cell_type": "code",
   "execution_count": null,
   "metadata": {},
   "outputs": [],
   "source": [
    "'''The for loop below was created to make a list of urls I will use to request \n",
    "movies for 1989 - 2020 including all of the pages of movies from the request results'''\n",
    "url_list =[]\n",
    "for year in range(1989, 2020):\n",
    "    url = (f'https://api.themoviedb.org/3/discover/movie?api_key={api_key}&language=en-US&sort_by=popularity.desc&include_adult=false&include_video=false&{page}=1&year={year}&vote_count.gte=1000&with_original_language=en')\n",
    "    pop_movies_pages= html_page.json()\n",
    "    url_list.append(url)\n"
   ]
  },
  {
   "cell_type": "code",
   "execution_count": null,
   "metadata": {},
   "outputs": [],
   "source": [
    "# This will make the size of my notebook too large so its a no go\n",
    "# url_list"
   ]
  },
  {
   "cell_type": "code",
   "execution_count": null,
   "metadata": {},
   "outputs": [],
   "source": [
    "len(titles_list) # Checking to see how large the data is"
   ]
  },
  {
   "cell_type": "code",
   "execution_count": null,
   "metadata": {},
   "outputs": [],
   "source": [
    "# assigning a variable to the results list that was turned into a dataframe \n",
    "df_2019 = pd.DataFrame(results_list) "
   ]
  },
  {
   "cell_type": "code",
   "execution_count": null,
   "metadata": {},
   "outputs": [],
   "source": [
    "# How columns and rows are there\n",
    "df_2019.shape"
   ]
  },
  {
   "cell_type": "code",
   "execution_count": null,
   "metadata": {
    "scrolled": false
   },
   "outputs": [],
   "source": [
    "# This is a no no, it made my notebook too large to push to git hub\n",
    "# print(html_page.text)"
   ]
  },
  {
   "cell_type": "code",
   "execution_count": null,
   "metadata": {},
   "outputs": [],
   "source": [
    "# After using The Movie Database API URL they provided me I turned the info into json text\n",
    "# pop_movies_page= html_page.json()\n",
    "# pop_movies_page\n",
    "\n",
    "#Too large to print out"
   ]
  },
  {
   "cell_type": "markdown",
   "metadata": {},
   "source": [
    "## Accesssing The Results Of The Most Popular Movies"
   ]
  },
  {
   "cell_type": "code",
   "execution_count": null,
   "metadata": {},
   "outputs": [],
   "source": [
    "# pp_movies = pop_movies_page['results']\n",
    "# pp_movies\n",
    "\n",
    "#Too large to print out"
   ]
  },
  {
   "cell_type": "markdown",
   "metadata": {},
   "source": [
    "## The Title Of The Movie"
   ]
  },
  {
   "cell_type": "code",
   "execution_count": null,
   "metadata": {},
   "outputs": [],
   "source": [
    "len(pp_movies) # Checking to see how large the data is"
   ]
  },
  {
   "cell_type": "code",
   "execution_count": null,
   "metadata": {},
   "outputs": [],
   "source": [
    "'''I created this function to get the titles of the movies and add them to a list\n",
    "The results of the list will be the list of movie titles'''\n",
    "def movie_title():\n",
    "    movie_titles  = []\n",
    "    for title in pp_movies:\n",
    "        movie_titles.append(title['title'])\n",
    "    return movie_titles"
   ]
  },
  {
   "cell_type": "code",
   "execution_count": null,
   "metadata": {},
   "outputs": [],
   "source": [
    "movie_title() # calling the function above"
   ]
  },
  {
   "cell_type": "markdown",
   "metadata": {},
   "source": [
    "## List of Movies Requested by the ID Number\n",
    "\n"
   ]
  },
  {
   "cell_type": "code",
   "execution_count": null,
   "metadata": {},
   "outputs": [],
   "source": [
    "# for id in \n",
    "# movie_id_url = request.get(f'https://api.themoviedb.org/3/movie/{movie_id}?api_key={api_key}&language=en-US')"
   ]
  },
  {
   "cell_type": "code",
   "execution_count": null,
   "metadata": {},
   "outputs": [],
   "source": [
    "'''This is the for loop I created to request for the most popular movies by movie ID'''\n",
    "\n",
    "movie_id = df.id[3:]\n",
    "movie_url_list = [] # created a list to hold the request results\n",
    "\n",
    "for id_ in movie_id:\n",
    "    movie_id_url = requests.get(f'https://api.themoviedb.org/3/movie/{id_}?api_key={api_key}&language=en-US')\n",
    "    movie_url_list.append(movie_id_url.json()) # Turned the request results into a JSON file and added them to a list\n",
    "#     print(movie_url_list)"
   ]
  },
  {
   "cell_type": "code",
   "execution_count": null,
   "metadata": {},
   "outputs": [],
   "source": [
    "# Checking to see how large the data is\n",
    "len(movie_url_list)"
   ]
  },
  {
   "cell_type": "code",
   "execution_count": null,
   "metadata": {},
   "outputs": [],
   "source": [
    "df2 = pd.DataFrame(movie_url_list) # Saving the new request as a dataframe to work with later"
   ]
  },
  {
   "cell_type": "code",
   "execution_count": null,
   "metadata": {},
   "outputs": [],
   "source": [
    "# Creating a brand new csv file that has the movies I requested by its id number\n",
    "df2.to_csv('Movies_by_id.csv', index=False) "
   ]
  },
  {
   "cell_type": "markdown",
   "metadata": {},
   "source": [
    "## Resources"
   ]
  },
  {
   "cell_type": "markdown",
   "metadata": {},
   "source": [
    "\n",
    "## Importing your API:\n",
    "Make sure you do NOT expose your key to public eyes EVERY!!! \n",
    "\n",
    "Resources: How to create a new json file w/vscode to hide your api key\n",
    "\n",
    "https://learn.co/tracks/module-1-data-science-career-2-1/intro-to-data-with-python-and-sql/section-09-json-and-apis/using-the-yelp-api-codealong"
   ]
  },
  {
   "cell_type": "markdown",
   "metadata": {},
   "source": [
    "## Human Resources \n",
    "\n",
    "Lindsey Berlin Flatiron School Data Science Coach\n",
    "\n",
    "Bryan Arnold Flatiron School Data Science Lead Instrutor \n",
    "\n",
    "Flatiron School 021720 Cohort \n"
   ]
  }
 ],
 "metadata": {
  "kernelspec": {
   "display_name": "Python 3",
   "language": "python",
   "name": "python3"
  },
  "language_info": {
   "codemirror_mode": {
    "name": "ipython",
    "version": 3
   },
   "file_extension": ".py",
   "mimetype": "text/x-python",
   "name": "python",
   "nbconvert_exporter": "python",
   "pygments_lexer": "ipython3",
   "version": "3.6.9"
  }
 },
 "nbformat": 4,
 "nbformat_minor": 2
}
