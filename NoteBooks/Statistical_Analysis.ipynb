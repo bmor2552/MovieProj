{
 "cells": [
  {
   "cell_type": "markdown",
   "metadata": {},
   "source": [
    "## Analyzing, Ploting, Visualizing\n",
    "\n",
    "The goal of this notebook is to analyze the data I have now cleaned, using statistics. I will also use imported libraries to visualy display my findings. \n",
    "\n",
    "Questions of Focus:\n",
    "\n",
    "* What are the most popular movies that made the most money? (The top 100)\n",
    "* What are the genres of the most popular movies? (What type of movies are making the money)\n",
    "* Who are the production companies that make these moveis? (Who is competition in this industry)"
   ]
  },
  {
   "cell_type": "code",
   "execution_count": 1,
   "metadata": {},
   "outputs": [],
   "source": [
    "# Importing the libraries I will need for my analysis\n",
    "# Check resources below for more info on them \n",
    "\n",
    "import pandas as pd\n",
    "import matplotlib.pyplot as plt\n",
    "%matplotlib inline\n",
    "import seaborn as sns \n",
    "import numpy as np\n",
    "import statistics \n",
    "\n",
    "from textwrap import wrap\n",
    "from matplotlib.pyplot import rcParams\n",
    "\n",
    "import operator\n"
   ]
  },
  {
   "cell_type": "code",
   "execution_count": 2,
   "metadata": {},
   "outputs": [],
   "source": [
    "df = pd.read_csv('../CSV_Files/Official_Movie_DataFrame') # Reading my csv file of my cleaned data into this notebook"
   ]
  },
  {
   "cell_type": "code",
   "execution_count": 3,
   "metadata": {},
   "outputs": [
    {
     "data": {
      "text/html": [
       "<div>\n",
       "<style scoped>\n",
       "    .dataframe tbody tr th:only-of-type {\n",
       "        vertical-align: middle;\n",
       "    }\n",
       "\n",
       "    .dataframe tbody tr th {\n",
       "        vertical-align: top;\n",
       "    }\n",
       "\n",
       "    .dataframe thead th {\n",
       "        text-align: right;\n",
       "    }\n",
       "</style>\n",
       "<table border=\"1\" class=\"dataframe\">\n",
       "  <thead>\n",
       "    <tr style=\"text-align: right;\">\n",
       "      <th></th>\n",
       "      <th>adult</th>\n",
       "      <th>budget</th>\n",
       "      <th>genres</th>\n",
       "      <th>id</th>\n",
       "      <th>popularity</th>\n",
       "      <th>production_companies</th>\n",
       "      <th>release_date</th>\n",
       "      <th>revenue</th>\n",
       "      <th>runtime</th>\n",
       "      <th>title</th>\n",
       "      <th>vote_average</th>\n",
       "      <th>vote_count</th>\n",
       "      <th>profit</th>\n",
       "    </tr>\n",
       "  </thead>\n",
       "  <tbody>\n",
       "    <tr>\n",
       "      <td>0</td>\n",
       "      <td>False</td>\n",
       "      <td>30000000</td>\n",
       "      <td>['Animation', 'Comedy', 'Family']</td>\n",
       "      <td>862</td>\n",
       "      <td>21.946943</td>\n",
       "      <td>['Pixar Animation Studios']</td>\n",
       "      <td>1995-10-30</td>\n",
       "      <td>373554033.0</td>\n",
       "      <td>81.0</td>\n",
       "      <td>Toy Story</td>\n",
       "      <td>7.7</td>\n",
       "      <td>5415.0</td>\n",
       "      <td>343554033.0</td>\n",
       "    </tr>\n",
       "    <tr>\n",
       "      <td>1</td>\n",
       "      <td>False</td>\n",
       "      <td>65000000</td>\n",
       "      <td>['Adventure', 'Fantasy', 'Family']</td>\n",
       "      <td>8844</td>\n",
       "      <td>17.015539</td>\n",
       "      <td>['TriStar Pictures', 'Teitler Film', 'Intersco...</td>\n",
       "      <td>1995-12-15</td>\n",
       "      <td>262797249.0</td>\n",
       "      <td>104.0</td>\n",
       "      <td>Jumanji</td>\n",
       "      <td>6.9</td>\n",
       "      <td>2413.0</td>\n",
       "      <td>197797249.0</td>\n",
       "    </tr>\n",
       "    <tr>\n",
       "      <td>2</td>\n",
       "      <td>False</td>\n",
       "      <td>16000000</td>\n",
       "      <td>['Comedy', 'Drama', 'Romance']</td>\n",
       "      <td>31357</td>\n",
       "      <td>3.859495</td>\n",
       "      <td>['Twentieth Century Fox Film Corporation']</td>\n",
       "      <td>1995-12-22</td>\n",
       "      <td>81452156.0</td>\n",
       "      <td>127.0</td>\n",
       "      <td>Waiting to Exhale</td>\n",
       "      <td>6.1</td>\n",
       "      <td>34.0</td>\n",
       "      <td>65452156.0</td>\n",
       "    </tr>\n",
       "    <tr>\n",
       "      <td>3</td>\n",
       "      <td>False</td>\n",
       "      <td>60000000</td>\n",
       "      <td>['Action', 'Crime', 'Drama', 'Thriller']</td>\n",
       "      <td>949</td>\n",
       "      <td>17.924927</td>\n",
       "      <td>['Regency Enterprises', 'Forward Pass', 'Warne...</td>\n",
       "      <td>1995-12-15</td>\n",
       "      <td>187436818.0</td>\n",
       "      <td>170.0</td>\n",
       "      <td>Heat</td>\n",
       "      <td>7.7</td>\n",
       "      <td>1886.0</td>\n",
       "      <td>127436818.0</td>\n",
       "    </tr>\n",
       "    <tr>\n",
       "      <td>4</td>\n",
       "      <td>False</td>\n",
       "      <td>35000000</td>\n",
       "      <td>['Action', 'Adventure', 'Thriller']</td>\n",
       "      <td>9091</td>\n",
       "      <td>5.231580</td>\n",
       "      <td>['Universal Pictures', 'Imperial Entertainment...</td>\n",
       "      <td>1995-12-22</td>\n",
       "      <td>64350171.0</td>\n",
       "      <td>106.0</td>\n",
       "      <td>Sudden Death</td>\n",
       "      <td>5.5</td>\n",
       "      <td>174.0</td>\n",
       "      <td>29350171.0</td>\n",
       "    </tr>\n",
       "  </tbody>\n",
       "</table>\n",
       "</div>"
      ],
      "text/plain": [
       "   adult    budget                                    genres     id  \\\n",
       "0  False  30000000         ['Animation', 'Comedy', 'Family']    862   \n",
       "1  False  65000000        ['Adventure', 'Fantasy', 'Family']   8844   \n",
       "2  False  16000000            ['Comedy', 'Drama', 'Romance']  31357   \n",
       "3  False  60000000  ['Action', 'Crime', 'Drama', 'Thriller']    949   \n",
       "4  False  35000000       ['Action', 'Adventure', 'Thriller']   9091   \n",
       "\n",
       "   popularity                               production_companies release_date  \\\n",
       "0   21.946943                        ['Pixar Animation Studios']   1995-10-30   \n",
       "1   17.015539  ['TriStar Pictures', 'Teitler Film', 'Intersco...   1995-12-15   \n",
       "2    3.859495         ['Twentieth Century Fox Film Corporation']   1995-12-22   \n",
       "3   17.924927  ['Regency Enterprises', 'Forward Pass', 'Warne...   1995-12-15   \n",
       "4    5.231580  ['Universal Pictures', 'Imperial Entertainment...   1995-12-22   \n",
       "\n",
       "       revenue  runtime              title  vote_average  vote_count  \\\n",
       "0  373554033.0     81.0          Toy Story           7.7      5415.0   \n",
       "1  262797249.0    104.0            Jumanji           6.9      2413.0   \n",
       "2   81452156.0    127.0  Waiting to Exhale           6.1        34.0   \n",
       "3  187436818.0    170.0               Heat           7.7      1886.0   \n",
       "4   64350171.0    106.0       Sudden Death           5.5       174.0   \n",
       "\n",
       "        profit  \n",
       "0  343554033.0  \n",
       "1  197797249.0  \n",
       "2   65452156.0  \n",
       "3  127436818.0  \n",
       "4   29350171.0  "
      ]
     },
     "execution_count": 3,
     "metadata": {},
     "output_type": "execute_result"
    }
   ],
   "source": [
    "df.head() # Viewing the data that I have"
   ]
  },
  {
   "cell_type": "code",
   "execution_count": 4,
   "metadata": {},
   "outputs": [
    {
     "name": "stdout",
     "output_type": "stream",
     "text": [
      "<class 'pandas.core.frame.DataFrame'>\n",
      "RangeIndex: 5381 entries, 0 to 5380\n",
      "Data columns (total 13 columns):\n",
      "adult                   5381 non-null bool\n",
      "budget                  5381 non-null int64\n",
      "genres                  5381 non-null object\n",
      "id                      5381 non-null int64\n",
      "popularity              5381 non-null float64\n",
      "production_companies    5381 non-null object\n",
      "release_date            5381 non-null object\n",
      "revenue                 5381 non-null float64\n",
      "runtime                 5380 non-null float64\n",
      "title                   5381 non-null object\n",
      "vote_average            5381 non-null float64\n",
      "vote_count              5381 non-null float64\n",
      "profit                  5381 non-null float64\n",
      "dtypes: bool(1), float64(6), int64(2), object(4)\n",
      "memory usage: 509.8+ KB\n"
     ]
    }
   ],
   "source": [
    "df.info() # viewing the columns and their data types to see what I' dealing with (refreshing my memory)"
   ]
  },
  {
   "cell_type": "markdown",
   "metadata": {},
   "source": [
    "## Plan of Attack\n",
    "\n",
    "1. I would like to sort my data by profit in a descendind order. This way the most popular movies that made the most money will be a the top of the list \n",
    "\n",
    "2. Grab the first 100 movies from that list\n",
    "\n",
    "3. Use the list of 100 to answer my questions via coding \n",
    "\n",
    "4. Create visuals for a non coder to understand the coded answers to my questions"
   ]
  },
  {
   "cell_type": "markdown",
   "metadata": {},
   "source": [
    "## Analyze"
   ]
  },
  {
   "cell_type": "code",
   "execution_count": 5,
   "metadata": {},
   "outputs": [],
   "source": [
    "# In the code below what I did was sort my dataframe fro most profitable movie to least profitable movie\n",
    "# I then used head() to get the fist 100 movies of that list\n",
    "# Lastly I assigned this new list to a variable\n",
    "\n",
    "df_100 = df.sort_values(by=['profit'], ascending=False).head(100)\n",
    "\n",
    "# This way I have a list to work with, without affecting my original dataframe"
   ]
  },
  {
   "cell_type": "code",
   "execution_count": 6,
   "metadata": {},
   "outputs": [
    {
     "data": {
      "text/html": [
       "<div>\n",
       "<style scoped>\n",
       "    .dataframe tbody tr th:only-of-type {\n",
       "        vertical-align: middle;\n",
       "    }\n",
       "\n",
       "    .dataframe tbody tr th {\n",
       "        vertical-align: top;\n",
       "    }\n",
       "\n",
       "    .dataframe thead th {\n",
       "        text-align: right;\n",
       "    }\n",
       "</style>\n",
       "<table border=\"1\" class=\"dataframe\">\n",
       "  <thead>\n",
       "    <tr style=\"text-align: right;\">\n",
       "      <th></th>\n",
       "      <th>adult</th>\n",
       "      <th>budget</th>\n",
       "      <th>genres</th>\n",
       "      <th>id</th>\n",
       "      <th>popularity</th>\n",
       "      <th>production_companies</th>\n",
       "      <th>release_date</th>\n",
       "      <th>revenue</th>\n",
       "      <th>runtime</th>\n",
       "      <th>title</th>\n",
       "      <th>vote_average</th>\n",
       "      <th>vote_count</th>\n",
       "      <th>profit</th>\n",
       "    </tr>\n",
       "  </thead>\n",
       "  <tbody>\n",
       "    <tr>\n",
       "      <td>3495</td>\n",
       "      <td>False</td>\n",
       "      <td>237000000</td>\n",
       "      <td>['Action', 'Adventure', 'Fantasy', 'Science Fi...</td>\n",
       "      <td>19995</td>\n",
       "      <td>185.070892</td>\n",
       "      <td>['Ingenious Film Partners', 'Twentieth Century...</td>\n",
       "      <td>2009-12-10</td>\n",
       "      <td>2.787965e+09</td>\n",
       "      <td>162.0</td>\n",
       "      <td>Avatar</td>\n",
       "      <td>7.2</td>\n",
       "      <td>12114.0</td>\n",
       "      <td>2.550965e+09</td>\n",
       "    </tr>\n",
       "    <tr>\n",
       "      <td>4643</td>\n",
       "      <td>False</td>\n",
       "      <td>245000000</td>\n",
       "      <td>['Action', 'Adventure', 'Science Fiction', 'Fa...</td>\n",
       "      <td>140607</td>\n",
       "      <td>31.626013</td>\n",
       "      <td>['Lucasfilm', 'Truenorth Productions', 'Bad Ro...</td>\n",
       "      <td>2015-12-15</td>\n",
       "      <td>2.068224e+09</td>\n",
       "      <td>136.0</td>\n",
       "      <td>Star Wars: The Force Awakens</td>\n",
       "      <td>7.5</td>\n",
       "      <td>7993.0</td>\n",
       "      <td>1.823224e+09</td>\n",
       "    </tr>\n",
       "    <tr>\n",
       "      <td>590</td>\n",
       "      <td>False</td>\n",
       "      <td>200000000</td>\n",
       "      <td>['Drama', 'Romance', 'Thriller']</td>\n",
       "      <td>597</td>\n",
       "      <td>26.889070</td>\n",
       "      <td>['Paramount Pictures', 'Twentieth Century Fox ...</td>\n",
       "      <td>1997-11-18</td>\n",
       "      <td>1.845034e+09</td>\n",
       "      <td>194.0</td>\n",
       "      <td>Titanic</td>\n",
       "      <td>7.5</td>\n",
       "      <td>7770.0</td>\n",
       "      <td>1.645034e+09</td>\n",
       "    </tr>\n",
       "    <tr>\n",
       "      <td>4586</td>\n",
       "      <td>False</td>\n",
       "      <td>150000000</td>\n",
       "      <td>['Action', 'Adventure', 'Science Fiction', 'Th...</td>\n",
       "      <td>135397</td>\n",
       "      <td>32.790475</td>\n",
       "      <td>['Universal Studios', 'Amblin Entertainment', ...</td>\n",
       "      <td>2015-06-09</td>\n",
       "      <td>1.513529e+09</td>\n",
       "      <td>124.0</td>\n",
       "      <td>Jurassic World</td>\n",
       "      <td>6.5</td>\n",
       "      <td>8842.0</td>\n",
       "      <td>1.363529e+09</td>\n",
       "    </tr>\n",
       "    <tr>\n",
       "      <td>4711</td>\n",
       "      <td>False</td>\n",
       "      <td>190000000</td>\n",
       "      <td>['Action']</td>\n",
       "      <td>168259</td>\n",
       "      <td>27.275687</td>\n",
       "      <td>['Universal Pictures', 'Original Film', 'Fuji ...</td>\n",
       "      <td>2015-04-01</td>\n",
       "      <td>1.506249e+09</td>\n",
       "      <td>137.0</td>\n",
       "      <td>Furious 7</td>\n",
       "      <td>7.3</td>\n",
       "      <td>4253.0</td>\n",
       "      <td>1.316249e+09</td>\n",
       "    </tr>\n",
       "    <tr>\n",
       "      <td>3192</td>\n",
       "      <td>False</td>\n",
       "      <td>52000000</td>\n",
       "      <td>['Comedy', 'Romance']</td>\n",
       "      <td>11631</td>\n",
       "      <td>10.534437</td>\n",
       "      <td>['Universal Pictures', 'Internationale Filmpro...</td>\n",
       "      <td>2008-07-03</td>\n",
       "      <td>6.098416e+08</td>\n",
       "      <td>108.0</td>\n",
       "      <td>Mamma Mia!</td>\n",
       "      <td>6.4</td>\n",
       "      <td>1435.0</td>\n",
       "      <td>5.578416e+08</td>\n",
       "    </tr>\n",
       "    <tr>\n",
       "      <td>5238</td>\n",
       "      <td>False</td>\n",
       "      <td>75000000</td>\n",
       "      <td>['Animation', 'Comedy', 'Drama', 'Family', 'Mu...</td>\n",
       "      <td>335797</td>\n",
       "      <td>20.045673</td>\n",
       "      <td>['Universal Pictures', 'Fuji Television Networ...</td>\n",
       "      <td>2016-11-23</td>\n",
       "      <td>6.324437e+08</td>\n",
       "      <td>108.0</td>\n",
       "      <td>Sing</td>\n",
       "      <td>6.8</td>\n",
       "      <td>2363.0</td>\n",
       "      <td>5.574437e+08</td>\n",
       "    </tr>\n",
       "    <tr>\n",
       "      <td>3961</td>\n",
       "      <td>False</td>\n",
       "      <td>145000000</td>\n",
       "      <td>['Action', 'Thriller', 'Adventure']</td>\n",
       "      <td>56292</td>\n",
       "      <td>14.258430</td>\n",
       "      <td>['Paramount Pictures', 'Skydance Productions',...</td>\n",
       "      <td>2011-12-07</td>\n",
       "      <td>6.947134e+08</td>\n",
       "      <td>133.0</td>\n",
       "      <td>Mission: Impossible - Ghost Protocol</td>\n",
       "      <td>6.8</td>\n",
       "      <td>4026.0</td>\n",
       "      <td>5.497134e+08</td>\n",
       "    </tr>\n",
       "    <tr>\n",
       "      <td>4430</td>\n",
       "      <td>False</td>\n",
       "      <td>170000000</td>\n",
       "      <td>['Action', 'Adventure', 'Science Fiction']</td>\n",
       "      <td>100402</td>\n",
       "      <td>18.717704</td>\n",
       "      <td>['Marvel Studios']</td>\n",
       "      <td>2014-03-20</td>\n",
       "      <td>7.147666e+08</td>\n",
       "      <td>136.0</td>\n",
       "      <td>Captain America: The Winter Soldier</td>\n",
       "      <td>7.6</td>\n",
       "      <td>5881.0</td>\n",
       "      <td>5.447666e+08</td>\n",
       "    </tr>\n",
       "    <tr>\n",
       "      <td>4261</td>\n",
       "      <td>False</td>\n",
       "      <td>200000000</td>\n",
       "      <td>['Animation', 'Family']</td>\n",
       "      <td>62211</td>\n",
       "      <td>16.267502</td>\n",
       "      <td>['Walt Disney Pictures', 'Pixar Animation Stud...</td>\n",
       "      <td>2013-06-20</td>\n",
       "      <td>7.435596e+08</td>\n",
       "      <td>104.0</td>\n",
       "      <td>Monsters University</td>\n",
       "      <td>7.0</td>\n",
       "      <td>3622.0</td>\n",
       "      <td>5.435596e+08</td>\n",
       "    </tr>\n",
       "  </tbody>\n",
       "</table>\n",
       "</div>"
      ],
      "text/plain": [
       "      adult     budget                                             genres  \\\n",
       "3495  False  237000000  ['Action', 'Adventure', 'Fantasy', 'Science Fi...   \n",
       "4643  False  245000000  ['Action', 'Adventure', 'Science Fiction', 'Fa...   \n",
       "590   False  200000000                   ['Drama', 'Romance', 'Thriller']   \n",
       "4586  False  150000000  ['Action', 'Adventure', 'Science Fiction', 'Th...   \n",
       "4711  False  190000000                                         ['Action']   \n",
       "3192  False   52000000                              ['Comedy', 'Romance']   \n",
       "5238  False   75000000  ['Animation', 'Comedy', 'Drama', 'Family', 'Mu...   \n",
       "3961  False  145000000                ['Action', 'Thriller', 'Adventure']   \n",
       "4430  False  170000000         ['Action', 'Adventure', 'Science Fiction']   \n",
       "4261  False  200000000                            ['Animation', 'Family']   \n",
       "\n",
       "          id  popularity                               production_companies  \\\n",
       "3495   19995  185.070892  ['Ingenious Film Partners', 'Twentieth Century...   \n",
       "4643  140607   31.626013  ['Lucasfilm', 'Truenorth Productions', 'Bad Ro...   \n",
       "590      597   26.889070  ['Paramount Pictures', 'Twentieth Century Fox ...   \n",
       "4586  135397   32.790475  ['Universal Studios', 'Amblin Entertainment', ...   \n",
       "4711  168259   27.275687  ['Universal Pictures', 'Original Film', 'Fuji ...   \n",
       "3192   11631   10.534437  ['Universal Pictures', 'Internationale Filmpro...   \n",
       "5238  335797   20.045673  ['Universal Pictures', 'Fuji Television Networ...   \n",
       "3961   56292   14.258430  ['Paramount Pictures', 'Skydance Productions',...   \n",
       "4430  100402   18.717704                                 ['Marvel Studios']   \n",
       "4261   62211   16.267502  ['Walt Disney Pictures', 'Pixar Animation Stud...   \n",
       "\n",
       "     release_date       revenue  runtime  \\\n",
       "3495   2009-12-10  2.787965e+09    162.0   \n",
       "4643   2015-12-15  2.068224e+09    136.0   \n",
       "590    1997-11-18  1.845034e+09    194.0   \n",
       "4586   2015-06-09  1.513529e+09    124.0   \n",
       "4711   2015-04-01  1.506249e+09    137.0   \n",
       "3192   2008-07-03  6.098416e+08    108.0   \n",
       "5238   2016-11-23  6.324437e+08    108.0   \n",
       "3961   2011-12-07  6.947134e+08    133.0   \n",
       "4430   2014-03-20  7.147666e+08    136.0   \n",
       "4261   2013-06-20  7.435596e+08    104.0   \n",
       "\n",
       "                                     title  vote_average  vote_count  \\\n",
       "3495                                Avatar           7.2     12114.0   \n",
       "4643          Star Wars: The Force Awakens           7.5      7993.0   \n",
       "590                                Titanic           7.5      7770.0   \n",
       "4586                        Jurassic World           6.5      8842.0   \n",
       "4711                             Furious 7           7.3      4253.0   \n",
       "3192                            Mamma Mia!           6.4      1435.0   \n",
       "5238                                  Sing           6.8      2363.0   \n",
       "3961  Mission: Impossible - Ghost Protocol           6.8      4026.0   \n",
       "4430   Captain America: The Winter Soldier           7.6      5881.0   \n",
       "4261                   Monsters University           7.0      3622.0   \n",
       "\n",
       "            profit  \n",
       "3495  2.550965e+09  \n",
       "4643  1.823224e+09  \n",
       "590   1.645034e+09  \n",
       "4586  1.363529e+09  \n",
       "4711  1.316249e+09  \n",
       "3192  5.578416e+08  \n",
       "5238  5.574437e+08  \n",
       "3961  5.497134e+08  \n",
       "4430  5.447666e+08  \n",
       "4261  5.435596e+08  "
      ]
     },
     "execution_count": 6,
     "metadata": {},
     "output_type": "execute_result"
    }
   ],
   "source": [
    "df_100.head().append(df_100.tail()) # Viewing my new list top 5 and last 5 combined"
   ]
  },
  {
   "cell_type": "markdown",
   "metadata": {},
   "source": [
    "## Check-in\n",
    "* What are the most popular movies that made the most money? (The top 100)  **Complete**\n",
    "* What are the genres of the most popular movies? (What type of movies are making the money)\n",
    "* Who are the production companies that make these moveis? (Who is competition in this industry)"
   ]
  },
  {
   "cell_type": "code",
   "execution_count": 7,
   "metadata": {
    "scrolled": true
   },
   "outputs": [
    {
     "data": {
      "text/plain": [
       "3495    ['Action', 'Adventure', 'Fantasy', 'Science Fi...\n",
       "4643    ['Action', 'Adventure', 'Science Fiction', 'Fa...\n",
       "590                      ['Drama', 'Romance', 'Thriller']\n",
       "4586    ['Action', 'Adventure', 'Science Fiction', 'Th...\n",
       "4711                                           ['Action']\n",
       "                              ...                        \n",
       "3192                                ['Comedy', 'Romance']\n",
       "5238    ['Animation', 'Comedy', 'Drama', 'Family', 'Mu...\n",
       "3961                  ['Action', 'Thriller', 'Adventure']\n",
       "4430           ['Action', 'Adventure', 'Science Fiction']\n",
       "4261                              ['Animation', 'Family']\n",
       "Name: genres, Length: 100, dtype: object"
      ]
     },
     "execution_count": 7,
     "metadata": {},
     "output_type": "execute_result"
    }
   ],
   "source": [
    "df_100_genres = df_100['genres'] # Locating the genres of the top 100 and assigning them to a variable\n",
    "df_100_genres"
   ]
  },
  {
   "cell_type": "markdown",
   "metadata": {},
   "source": [
    "## Check-in\n",
    "* What are the most popular movies that made the most money? (The top 100)  **Complete**\n",
    "* What are the genres of the most popular movies? (What type of movies are making the money) **Complete**\n",
    "* Who are the production companies that make these moveis? (Who is competition in this industry)"
   ]
  },
  {
   "cell_type": "code",
   "execution_count": 8,
   "metadata": {},
   "outputs": [
    {
     "data": {
      "text/plain": [
       "3495    ['Ingenious Film Partners', 'Twentieth Century...\n",
       "4643    ['Lucasfilm', 'Truenorth Productions', 'Bad Ro...\n",
       "590     ['Paramount Pictures', 'Twentieth Century Fox ...\n",
       "4586    ['Universal Studios', 'Amblin Entertainment', ...\n",
       "4711    ['Universal Pictures', 'Original Film', 'Fuji ...\n",
       "                              ...                        \n",
       "3192    ['Universal Pictures', 'Internationale Filmpro...\n",
       "5238    ['Universal Pictures', 'Fuji Television Networ...\n",
       "3961    ['Paramount Pictures', 'Skydance Productions',...\n",
       "4430                                   ['Marvel Studios']\n",
       "4261    ['Walt Disney Pictures', 'Pixar Animation Stud...\n",
       "Name: production_companies, Length: 100, dtype: object"
      ]
     },
     "execution_count": 8,
     "metadata": {},
     "output_type": "execute_result"
    }
   ],
   "source": [
    "df_100_pro_comp = df_100['production_companies']\n",
    "df_100_pro_comp # Locating the production companies of the top 100 and assigning them to a variable"
   ]
  },
  {
   "cell_type": "markdown",
   "metadata": {},
   "source": [
    "## Check-in\n",
    "* What are the most popular movies that made the most money? (The top 100)  **Complete**\n",
    "* What are the genres of the most popular movies? (What type of movies are making the money) **Complete**\n",
    "* Who are the production companies that make these moveis? (Who is competition in this industry) **Complete**"
   ]
  },
  {
   "cell_type": "markdown",
   "metadata": {},
   "source": [
    "## Plan of Attack Recap\n",
    "\n",
    "1. I would like to sort my data by profit in a descendind order, this way the most popular movies that made the most money will be a the top **Complete**\n",
    "\n",
    "2. Grab the first 100 movies from that list **Complete**\n",
    "\n",
    "3. Use the list of 100 to answer my questions via coding **Complete**\n",
    "\n",
    "4. Create visuals for a non coder to understand the coded answers to my questions"
   ]
  },
  {
   "cell_type": "markdown",
   "metadata": {},
   "source": [
    "## Ploting & Visualizing "
   ]
  },
  {
   "cell_type": "markdown",
   "metadata": {},
   "source": [
    "## Houston we have a problem! My prduction column and genres column are full of list!!"
   ]
  },
  {
   "cell_type": "code",
   "execution_count": 9,
   "metadata": {},
   "outputs": [
    {
     "data": {
      "text/plain": [
       "array([\"['Action', 'Adventure', 'Fantasy', 'Science Fiction']\",\n",
       "       \"['Action', 'Adventure', 'Science Fiction', 'Fantasy']\",\n",
       "       \"['Drama', 'Romance', 'Thriller']\",\n",
       "       \"['Action', 'Adventure', 'Science Fiction', 'Thriller']\",\n",
       "       \"['Action']\", \"['Science Fiction', 'Action', 'Adventure']\",\n",
       "       \"['Family', 'Fantasy', 'Adventure']\",\n",
       "       \"['Action', 'Adventure', 'Science Fiction']\",\n",
       "       \"['Animation', 'Adventure', 'Family']\",\n",
       "       \"['Family', 'Fantasy', 'Romance']\"], dtype=object)"
      ]
     },
     "execution_count": 9,
     "metadata": {},
     "output_type": "execute_result"
    }
   ],
   "source": [
    "df_100_genres.head(10).unique() # All the values for genres, in the top 10 movies (no repeats)\n"
   ]
  },
  {
   "cell_type": "code",
   "execution_count": 10,
   "metadata": {
    "scrolled": false
   },
   "outputs": [
    {
     "data": {
      "text/plain": [
       "array([\"['Ingenious Film Partners', 'Twentieth Century Fox Film Corporation', 'Dune Entertainment', 'Lightstorm Entertainment']\",\n",
       "       \"['Lucasfilm', 'Truenorth Productions', 'Bad Robot']\",\n",
       "       \"['Paramount Pictures', 'Twentieth Century Fox Film Corporation', 'Lightstorm Entertainment']\",\n",
       "       \"['Universal Studios', 'Amblin Entertainment', 'Legendary Pictures', 'Fuji Television Network', 'Dentsu']\",\n",
       "       \"['Universal Pictures', 'Original Film', 'Fuji Television Network', 'Dentsu', 'One Race Films', 'China Film Co.', 'Québec Production Services Tax Credit', 'Media Rights Capital (MRC)', 'Abu Dhabi Film Commission', 'Colorado Office of Film, Television & Media']\",\n",
       "       \"['Paramount Pictures', 'Marvel Studios']\",\n",
       "       \"['Warner Bros.', 'Heyday Films']\",\n",
       "       \"['Marvel Studios', 'Prime Focus', 'Revolution Sun Studios']\",\n",
       "       \"['Walt Disney Pictures', 'Walt Disney Animation Studios']\",\n",
       "       \"['Walt Disney Pictures', 'Mandeville Films']\"], dtype=object)"
      ]
     },
     "execution_count": 10,
     "metadata": {},
     "output_type": "execute_result"
    }
   ],
   "source": [
    "df_100_pro_comp.head(10).unique() # All the values for production companies, in the top 10 movies (no repeats)"
   ]
  },
  {
   "cell_type": "markdown",
   "metadata": {},
   "source": [
    "## Fixing The Problem: Genres"
   ]
  },
  {
   "cell_type": "code",
   "execution_count": 11,
   "metadata": {},
   "outputs": [],
   "source": [
    "'''This for loop will take my genres column and evaluate it\n",
    "This will then return a list instead of a list of list wrapped in a string'''\n",
    "\n",
    "df_100.genres = df_100.genres.apply(lambda x: eval(x))\n",
    "genre_list = []\n",
    "for genres in df_100.genres:\n",
    "    for genre in genres:\n",
    "        if genre != genre_list:\n",
    "            genre_list.append(genre)"
   ]
  },
  {
   "cell_type": "code",
   "execution_count": 12,
   "metadata": {
    "scrolled": true
   },
   "outputs": [
    {
     "data": {
      "text/html": [
       "<div>\n",
       "<style scoped>\n",
       "    .dataframe tbody tr th:only-of-type {\n",
       "        vertical-align: middle;\n",
       "    }\n",
       "\n",
       "    .dataframe tbody tr th {\n",
       "        vertical-align: top;\n",
       "    }\n",
       "\n",
       "    .dataframe thead th {\n",
       "        text-align: right;\n",
       "    }\n",
       "</style>\n",
       "<table border=\"1\" class=\"dataframe\">\n",
       "  <thead>\n",
       "    <tr style=\"text-align: right;\">\n",
       "      <th></th>\n",
       "      <th>adult</th>\n",
       "      <th>budget</th>\n",
       "      <th>genres</th>\n",
       "      <th>id</th>\n",
       "      <th>popularity</th>\n",
       "      <th>production_companies</th>\n",
       "      <th>release_date</th>\n",
       "      <th>revenue</th>\n",
       "      <th>runtime</th>\n",
       "      <th>title</th>\n",
       "      <th>...</th>\n",
       "      <th>Science Fiction</th>\n",
       "      <th>Drama</th>\n",
       "      <th>Romance</th>\n",
       "      <th>Thriller</th>\n",
       "      <th>Family</th>\n",
       "      <th>Animation</th>\n",
       "      <th>Comedy</th>\n",
       "      <th>Crime</th>\n",
       "      <th>Mystery</th>\n",
       "      <th>Music</th>\n",
       "    </tr>\n",
       "  </thead>\n",
       "  <tbody>\n",
       "    <tr>\n",
       "      <td>3495</td>\n",
       "      <td>False</td>\n",
       "      <td>237000000</td>\n",
       "      <td>[Action, Adventure, Fantasy, Science Fiction]</td>\n",
       "      <td>19995</td>\n",
       "      <td>185.070892</td>\n",
       "      <td>['Ingenious Film Partners', 'Twentieth Century...</td>\n",
       "      <td>2009-12-10</td>\n",
       "      <td>2.787965e+09</td>\n",
       "      <td>162.0</td>\n",
       "      <td>Avatar</td>\n",
       "      <td>...</td>\n",
       "      <td>True</td>\n",
       "      <td>False</td>\n",
       "      <td>False</td>\n",
       "      <td>False</td>\n",
       "      <td>False</td>\n",
       "      <td>False</td>\n",
       "      <td>False</td>\n",
       "      <td>False</td>\n",
       "      <td>False</td>\n",
       "      <td>False</td>\n",
       "    </tr>\n",
       "    <tr>\n",
       "      <td>4643</td>\n",
       "      <td>False</td>\n",
       "      <td>245000000</td>\n",
       "      <td>[Action, Adventure, Science Fiction, Fantasy]</td>\n",
       "      <td>140607</td>\n",
       "      <td>31.626013</td>\n",
       "      <td>['Lucasfilm', 'Truenorth Productions', 'Bad Ro...</td>\n",
       "      <td>2015-12-15</td>\n",
       "      <td>2.068224e+09</td>\n",
       "      <td>136.0</td>\n",
       "      <td>Star Wars: The Force Awakens</td>\n",
       "      <td>...</td>\n",
       "      <td>True</td>\n",
       "      <td>False</td>\n",
       "      <td>False</td>\n",
       "      <td>False</td>\n",
       "      <td>False</td>\n",
       "      <td>False</td>\n",
       "      <td>False</td>\n",
       "      <td>False</td>\n",
       "      <td>False</td>\n",
       "      <td>False</td>\n",
       "    </tr>\n",
       "    <tr>\n",
       "      <td>590</td>\n",
       "      <td>False</td>\n",
       "      <td>200000000</td>\n",
       "      <td>[Drama, Romance, Thriller]</td>\n",
       "      <td>597</td>\n",
       "      <td>26.889070</td>\n",
       "      <td>['Paramount Pictures', 'Twentieth Century Fox ...</td>\n",
       "      <td>1997-11-18</td>\n",
       "      <td>1.845034e+09</td>\n",
       "      <td>194.0</td>\n",
       "      <td>Titanic</td>\n",
       "      <td>...</td>\n",
       "      <td>False</td>\n",
       "      <td>True</td>\n",
       "      <td>True</td>\n",
       "      <td>True</td>\n",
       "      <td>False</td>\n",
       "      <td>False</td>\n",
       "      <td>False</td>\n",
       "      <td>False</td>\n",
       "      <td>False</td>\n",
       "      <td>False</td>\n",
       "    </tr>\n",
       "    <tr>\n",
       "      <td>4586</td>\n",
       "      <td>False</td>\n",
       "      <td>150000000</td>\n",
       "      <td>[Action, Adventure, Science Fiction, Thriller]</td>\n",
       "      <td>135397</td>\n",
       "      <td>32.790475</td>\n",
       "      <td>['Universal Studios', 'Amblin Entertainment', ...</td>\n",
       "      <td>2015-06-09</td>\n",
       "      <td>1.513529e+09</td>\n",
       "      <td>124.0</td>\n",
       "      <td>Jurassic World</td>\n",
       "      <td>...</td>\n",
       "      <td>True</td>\n",
       "      <td>False</td>\n",
       "      <td>False</td>\n",
       "      <td>True</td>\n",
       "      <td>False</td>\n",
       "      <td>False</td>\n",
       "      <td>False</td>\n",
       "      <td>False</td>\n",
       "      <td>False</td>\n",
       "      <td>False</td>\n",
       "    </tr>\n",
       "    <tr>\n",
       "      <td>4711</td>\n",
       "      <td>False</td>\n",
       "      <td>190000000</td>\n",
       "      <td>[Action]</td>\n",
       "      <td>168259</td>\n",
       "      <td>27.275687</td>\n",
       "      <td>['Universal Pictures', 'Original Film', 'Fuji ...</td>\n",
       "      <td>2015-04-01</td>\n",
       "      <td>1.506249e+09</td>\n",
       "      <td>137.0</td>\n",
       "      <td>Furious 7</td>\n",
       "      <td>...</td>\n",
       "      <td>False</td>\n",
       "      <td>False</td>\n",
       "      <td>False</td>\n",
       "      <td>False</td>\n",
       "      <td>False</td>\n",
       "      <td>False</td>\n",
       "      <td>False</td>\n",
       "      <td>False</td>\n",
       "      <td>False</td>\n",
       "      <td>False</td>\n",
       "    </tr>\n",
       "  </tbody>\n",
       "</table>\n",
       "<p>5 rows × 26 columns</p>\n",
       "</div>"
      ],
      "text/plain": [
       "      adult     budget                                          genres  \\\n",
       "3495  False  237000000   [Action, Adventure, Fantasy, Science Fiction]   \n",
       "4643  False  245000000   [Action, Adventure, Science Fiction, Fantasy]   \n",
       "590   False  200000000                      [Drama, Romance, Thriller]   \n",
       "4586  False  150000000  [Action, Adventure, Science Fiction, Thriller]   \n",
       "4711  False  190000000                                        [Action]   \n",
       "\n",
       "          id  popularity                               production_companies  \\\n",
       "3495   19995  185.070892  ['Ingenious Film Partners', 'Twentieth Century...   \n",
       "4643  140607   31.626013  ['Lucasfilm', 'Truenorth Productions', 'Bad Ro...   \n",
       "590      597   26.889070  ['Paramount Pictures', 'Twentieth Century Fox ...   \n",
       "4586  135397   32.790475  ['Universal Studios', 'Amblin Entertainment', ...   \n",
       "4711  168259   27.275687  ['Universal Pictures', 'Original Film', 'Fuji ...   \n",
       "\n",
       "     release_date       revenue  runtime                         title  ...  \\\n",
       "3495   2009-12-10  2.787965e+09    162.0                        Avatar  ...   \n",
       "4643   2015-12-15  2.068224e+09    136.0  Star Wars: The Force Awakens  ...   \n",
       "590    1997-11-18  1.845034e+09    194.0                       Titanic  ...   \n",
       "4586   2015-06-09  1.513529e+09    124.0                Jurassic World  ...   \n",
       "4711   2015-04-01  1.506249e+09    137.0                     Furious 7  ...   \n",
       "\n",
       "      Science Fiction  Drama  Romance  Thriller  Family  Animation  Comedy  \\\n",
       "3495             True  False    False     False   False      False   False   \n",
       "4643             True  False    False     False   False      False   False   \n",
       "590             False   True     True      True   False      False   False   \n",
       "4586             True  False    False      True   False      False   False   \n",
       "4711            False  False    False     False   False      False   False   \n",
       "\n",
       "      Crime  Mystery  Music  \n",
       "3495  False    False  False  \n",
       "4643  False    False  False  \n",
       "590   False    False  False  \n",
       "4586  False    False  False  \n",
       "4711  False    False  False  \n",
       "\n",
       "[5 rows x 26 columns]"
      ]
     },
     "execution_count": 12,
     "metadata": {},
     "output_type": "execute_result"
    }
   ],
   "source": [
    "'''After forming my new list from the above cell I will then take that list to create columns of the genres \n",
    "The columns will be booleans that reflect if a movie in the row has that genre or not in its description'''\n",
    "genre_list\n",
    "for genre in genre_list:\n",
    "    df_100[genre] = df_100['genres'].apply(lambda x: genre in x)\n",
    "    \n",
    "df_100.head()"
   ]
  },
  {
   "cell_type": "markdown",
   "metadata": {},
   "source": [
    "## Fixing The Problem: Production Companies "
   ]
  },
  {
   "cell_type": "code",
   "execution_count": 13,
   "metadata": {},
   "outputs": [],
   "source": [
    "'''This for loop will take my production companies column and evaluate it\n",
    "This will then return a list instead of a list of list wrapped in a string'''\n",
    "\n",
    "df_100_pro_comp = df_100_pro_comp.apply(lambda x: eval(x))\n",
    "production_list = []\n",
    "for companyL in df_100_pro_comp:\n",
    "    for company in companyL:\n",
    "        if company != production_list:\n",
    "            production_list.append(company)\n",
    "            \n"
   ]
  },
  {
   "cell_type": "code",
   "execution_count": 14,
   "metadata": {},
   "outputs": [
    {
     "data": {
      "text/plain": [
       "Index(['adult', 'budget', 'genres', 'id', 'popularity', 'production_companies',\n",
       "       'release_date', 'revenue', 'runtime', 'title',\n",
       "       ...\n",
       "       'Walden Media', 'Infinitum Nihil', 'thinkfilm', 'SprocketHeads',\n",
       "       'Internationale Filmproduktion Richter', 'Playtone', 'Littlestar',\n",
       "       'Skydance Productions', 'TC Productions', 'Kontsept Film Company'],\n",
       "      dtype='object', length=157)"
      ]
     },
     "execution_count": 14,
     "metadata": {},
     "output_type": "execute_result"
    }
   ],
   "source": [
    "'''After forming my new list from the above cell this new for loop will then take that list to create columns \n",
    "of the production companies. \n",
    "The columns will be booleans that reflect if a movie in the row has that genre or not in its description'''\n",
    "\n",
    "production_list\n",
    "for company in production_list:\n",
    "    df_100[company] = df_100['production_companies'].apply(lambda x: company in x)\n",
    "    \n",
    "df_100.columns # Checking to see if the columns of production companies were added"
   ]
  },
  {
   "cell_type": "markdown",
   "metadata": {},
   "source": [
    "## Chart: What Movie Genre Is The Most Popular  \n",
    "Before I begin to plot my data I need to create a small dataframe that have the following:\n",
    "* Title of the movie\n",
    "* The profit of the movie \n",
    "* The genres that describe the movie"
   ]
  },
  {
   "cell_type": "code",
   "execution_count": 15,
   "metadata": {},
   "outputs": [
    {
     "data": {
      "text/plain": [
       "['Animation',\n",
       " 'Thriller',\n",
       " 'Fantasy',\n",
       " 'Family',\n",
       " 'Action',\n",
       " 'Mystery',\n",
       " 'Comedy',\n",
       " 'Science Fiction',\n",
       " 'Music',\n",
       " 'Romance',\n",
       " 'Crime',\n",
       " 'Drama',\n",
       " 'Adventure']"
      ]
     },
     "execution_count": 15,
     "metadata": {},
     "output_type": "execute_result"
    }
   ],
   "source": [
    "list(set(genre_list)) # Taking care of the repeats"
   ]
  },
  {
   "cell_type": "markdown",
   "metadata": {},
   "source": [
    "## Creating Subsets of Data\n",
    "\n",
    "For this section of the notebook, I wanted to create a subset of data to plot. I will create one for genres columns first, and then the production companies columns."
   ]
  },
  {
   "cell_type": "code",
   "execution_count": 16,
   "metadata": {},
   "outputs": [],
   "source": [
    "df_plot_genres = df_100.copy().set_index('title') # Setting the index to the movie titles of the df_100"
   ]
  },
  {
   "cell_type": "code",
   "execution_count": 17,
   "metadata": {},
   "outputs": [],
   "source": [
    "# Slicing the genre columns to select the gernre columns that are needed for ploting \n",
    "# and setting it equal to a variable \n",
    "df_plot_genres_cols = df_100.columns[12:26]"
   ]
  },
  {
   "cell_type": "code",
   "execution_count": 18,
   "metadata": {},
   "outputs": [],
   "source": [
    "# Creating a dataframe that has the columns and indexs from cells above\n",
    "df_plot_genres = df_plot_genres[df_plot_genres_cols] \n"
   ]
  },
  {
   "cell_type": "code",
   "execution_count": 19,
   "metadata": {
    "scrolled": false
   },
   "outputs": [
    {
     "data": {
      "text/html": [
       "<div>\n",
       "<style scoped>\n",
       "    .dataframe tbody tr th:only-of-type {\n",
       "        vertical-align: middle;\n",
       "    }\n",
       "\n",
       "    .dataframe tbody tr th {\n",
       "        vertical-align: top;\n",
       "    }\n",
       "\n",
       "    .dataframe thead th {\n",
       "        text-align: right;\n",
       "    }\n",
       "</style>\n",
       "<table border=\"1\" class=\"dataframe\">\n",
       "  <thead>\n",
       "    <tr style=\"text-align: right;\">\n",
       "      <th></th>\n",
       "      <th>profit</th>\n",
       "      <th>Action</th>\n",
       "      <th>Adventure</th>\n",
       "      <th>Fantasy</th>\n",
       "      <th>Science Fiction</th>\n",
       "      <th>Drama</th>\n",
       "      <th>Romance</th>\n",
       "      <th>Thriller</th>\n",
       "      <th>Family</th>\n",
       "      <th>Animation</th>\n",
       "      <th>Comedy</th>\n",
       "      <th>Crime</th>\n",
       "      <th>Mystery</th>\n",
       "      <th>Music</th>\n",
       "    </tr>\n",
       "    <tr>\n",
       "      <th>title</th>\n",
       "      <th></th>\n",
       "      <th></th>\n",
       "      <th></th>\n",
       "      <th></th>\n",
       "      <th></th>\n",
       "      <th></th>\n",
       "      <th></th>\n",
       "      <th></th>\n",
       "      <th></th>\n",
       "      <th></th>\n",
       "      <th></th>\n",
       "      <th></th>\n",
       "      <th></th>\n",
       "      <th></th>\n",
       "    </tr>\n",
       "  </thead>\n",
       "  <tbody>\n",
       "    <tr>\n",
       "      <td>Avatar</td>\n",
       "      <td>2.550965e+09</td>\n",
       "      <td>True</td>\n",
       "      <td>True</td>\n",
       "      <td>True</td>\n",
       "      <td>True</td>\n",
       "      <td>False</td>\n",
       "      <td>False</td>\n",
       "      <td>False</td>\n",
       "      <td>False</td>\n",
       "      <td>False</td>\n",
       "      <td>False</td>\n",
       "      <td>False</td>\n",
       "      <td>False</td>\n",
       "      <td>False</td>\n",
       "    </tr>\n",
       "    <tr>\n",
       "      <td>Star Wars: The Force Awakens</td>\n",
       "      <td>1.823224e+09</td>\n",
       "      <td>True</td>\n",
       "      <td>True</td>\n",
       "      <td>True</td>\n",
       "      <td>True</td>\n",
       "      <td>False</td>\n",
       "      <td>False</td>\n",
       "      <td>False</td>\n",
       "      <td>False</td>\n",
       "      <td>False</td>\n",
       "      <td>False</td>\n",
       "      <td>False</td>\n",
       "      <td>False</td>\n",
       "      <td>False</td>\n",
       "    </tr>\n",
       "    <tr>\n",
       "      <td>Titanic</td>\n",
       "      <td>1.645034e+09</td>\n",
       "      <td>False</td>\n",
       "      <td>False</td>\n",
       "      <td>False</td>\n",
       "      <td>False</td>\n",
       "      <td>True</td>\n",
       "      <td>True</td>\n",
       "      <td>True</td>\n",
       "      <td>False</td>\n",
       "      <td>False</td>\n",
       "      <td>False</td>\n",
       "      <td>False</td>\n",
       "      <td>False</td>\n",
       "      <td>False</td>\n",
       "    </tr>\n",
       "    <tr>\n",
       "      <td>Jurassic World</td>\n",
       "      <td>1.363529e+09</td>\n",
       "      <td>True</td>\n",
       "      <td>True</td>\n",
       "      <td>False</td>\n",
       "      <td>True</td>\n",
       "      <td>False</td>\n",
       "      <td>False</td>\n",
       "      <td>True</td>\n",
       "      <td>False</td>\n",
       "      <td>False</td>\n",
       "      <td>False</td>\n",
       "      <td>False</td>\n",
       "      <td>False</td>\n",
       "      <td>False</td>\n",
       "    </tr>\n",
       "    <tr>\n",
       "      <td>Furious 7</td>\n",
       "      <td>1.316249e+09</td>\n",
       "      <td>True</td>\n",
       "      <td>False</td>\n",
       "      <td>False</td>\n",
       "      <td>False</td>\n",
       "      <td>False</td>\n",
       "      <td>False</td>\n",
       "      <td>False</td>\n",
       "      <td>False</td>\n",
       "      <td>False</td>\n",
       "      <td>False</td>\n",
       "      <td>False</td>\n",
       "      <td>False</td>\n",
       "      <td>False</td>\n",
       "    </tr>\n",
       "  </tbody>\n",
       "</table>\n",
       "</div>"
      ],
      "text/plain": [
       "                                    profit  Action  Adventure  Fantasy  \\\n",
       "title                                                                    \n",
       "Avatar                        2.550965e+09    True       True     True   \n",
       "Star Wars: The Force Awakens  1.823224e+09    True       True     True   \n",
       "Titanic                       1.645034e+09   False      False    False   \n",
       "Jurassic World                1.363529e+09    True       True    False   \n",
       "Furious 7                     1.316249e+09    True      False    False   \n",
       "\n",
       "                              Science Fiction  Drama  Romance  Thriller  \\\n",
       "title                                                                     \n",
       "Avatar                                   True  False    False     False   \n",
       "Star Wars: The Force Awakens             True  False    False     False   \n",
       "Titanic                                 False   True     True      True   \n",
       "Jurassic World                           True  False    False      True   \n",
       "Furious 7                               False  False    False     False   \n",
       "\n",
       "                              Family  Animation  Comedy  Crime  Mystery  Music  \n",
       "title                                                                           \n",
       "Avatar                         False      False   False  False    False  False  \n",
       "Star Wars: The Force Awakens   False      False   False  False    False  False  \n",
       "Titanic                        False      False   False  False    False  False  \n",
       "Jurassic World                 False      False   False  False    False  False  \n",
       "Furious 7                      False      False   False  False    False  False  "
      ]
     },
     "execution_count": 19,
     "metadata": {},
     "output_type": "execute_result"
    }
   ],
   "source": [
    "df_plot_genres.head() # Veiwing the dataframe "
   ]
  },
  {
   "cell_type": "code",
   "execution_count": 20,
   "metadata": {},
   "outputs": [],
   "source": [
    "'''This for loop will create a dictionary where the key is the genre of the movie \n",
    "and the value is the sum of the profit made as a whole for the df_100 genres'''\n",
    "unique_genre_list = list(set(genre_list))\n",
    "genre_profit_dict = {}\n",
    "\n",
    "for genre in unique_genre_list:\n",
    "        genre_profit_dict[genre] = df_plot_genres[df_plot_genres[genre] == True]['profit'].sum()"
   ]
  },
  {
   "cell_type": "code",
   "execution_count": 21,
   "metadata": {},
   "outputs": [
    {
     "data": {
      "text/plain": [
       "{'Animation': 16672040301.0,\n",
       " 'Thriller': 11507031699.0,\n",
       " 'Fantasy': 33221158644.0,\n",
       " 'Family': 28378490173.0,\n",
       " 'Action': 41575559290.0,\n",
       " 'Mystery': 2729372253.0,\n",
       " 'Comedy': 14576813306.0,\n",
       " 'Science Fiction': 25463914681.0,\n",
       " 'Music': 557443719.0,\n",
       " 'Romance': 7108738011.0,\n",
       " 'Crime': 4478216821.0,\n",
       " 'Drama': 10522741625.0,\n",
       " 'Adventure': 60934658863.0}"
      ]
     },
     "execution_count": 21,
     "metadata": {},
     "output_type": "execute_result"
    }
   ],
   "source": [
    "genre_profit_dict # Viewing the Dictionary"
   ]
  },
  {
   "cell_type": "code",
   "execution_count": 22,
   "metadata": {
    "scrolled": true
   },
   "outputs": [
    {
     "data": {
      "text/plain": [
       "[('Music', 557443719.0),\n",
       " ('Mystery', 2729372253.0),\n",
       " ('Crime', 4478216821.0),\n",
       " ('Romance', 7108738011.0),\n",
       " ('Drama', 10522741625.0),\n",
       " ('Thriller', 11507031699.0),\n",
       " ('Comedy', 14576813306.0),\n",
       " ('Animation', 16672040301.0),\n",
       " ('Science Fiction', 25463914681.0),\n",
       " ('Family', 28378490173.0),\n",
       " ('Fantasy', 33221158644.0),\n",
       " ('Action', 41575559290.0),\n",
       " ('Adventure', 60934658863.0)]"
      ]
     },
     "execution_count": 22,
     "metadata": {},
     "output_type": "execute_result"
    }
   ],
   "source": [
    "genre_profit_dict_sort = sorted(genre_profit_dict.items(), key=operator.itemgetter(1)) \n",
    "genre_profit_dict_sort # Sorting the dictionary from the most profitable genre to the least profitable genre"
   ]
  },
  {
   "cell_type": "code",
   "execution_count": 23,
   "metadata": {},
   "outputs": [],
   "source": [
    "'''The loop below will create two list\n",
    "it will then pull out of the dictionary made in the cell above \n",
    "the keys and place them in the genres list \n",
    "and then pull the values and place them in the sum_profits list'''\n",
    "\n",
    "genres = []\n",
    "sum_profits = []\n",
    "\n",
    "for item in range(len(genre_profit_dict_sort)):\n",
    "    genres.append(genre_profit_dict_sort[item][0])\n",
    "    sum_profits.append(genre_profit_dict_sort[item][1])"
   ]
  },
  {
   "cell_type": "code",
   "execution_count": 24,
   "metadata": {},
   "outputs": [
    {
     "data": {
      "text/plain": [
       "['Music',\n",
       " 'Mystery',\n",
       " 'Crime',\n",
       " 'Romance',\n",
       " 'Drama',\n",
       " 'Thriller',\n",
       " 'Comedy',\n",
       " 'Animation',\n",
       " 'Science Fiction',\n",
       " 'Family',\n",
       " 'Fantasy',\n",
       " 'Action',\n",
       " 'Adventure']"
      ]
     },
     "execution_count": 24,
     "metadata": {},
     "output_type": "execute_result"
    }
   ],
   "source": [
    "genres # Veiwing the genres list "
   ]
  },
  {
   "cell_type": "code",
   "execution_count": 25,
   "metadata": {},
   "outputs": [
    {
     "data": {
      "text/plain": [
       "[557443719.0,\n",
       " 2729372253.0,\n",
       " 4478216821.0,\n",
       " 7108738011.0,\n",
       " 10522741625.0,\n",
       " 11507031699.0,\n",
       " 14576813306.0,\n",
       " 16672040301.0,\n",
       " 25463914681.0,\n",
       " 28378490173.0,\n",
       " 33221158644.0,\n",
       " 41575559290.0,\n",
       " 60934658863.0]"
      ]
     },
     "execution_count": 25,
     "metadata": {},
     "output_type": "execute_result"
    }
   ],
   "source": [
    "sum_profits # Veiwing the sum of profits list"
   ]
  },
  {
   "cell_type": "code",
   "execution_count": 27,
   "metadata": {},
   "outputs": [
    {
     "data": {
      "text/plain": [
       "<BarContainer object of 13 artists>"
      ]
     },
     "execution_count": 27,
     "metadata": {},
     "output_type": "execute_result"
    },
    {
     "data": {
      "image/png": "[encoded data removed]",
      "text/plain": [
       "<Figure size 1800x432 with 1 Axes>"
      ]
     },
     "metadata": {
      "needs_background": "light"
     },
     "output_type": "display_data"
    }
   ],
   "source": [
    "'''Below you will find a visualization of which genres made the most money\n",
    "The visualization is of a bar chart that has the names of genres at the bottom\n",
    "and the amount of money it made in US Dollars'''\n",
    "\n",
    "\n",
    "x= genres\n",
    "y= sum_profits\n",
    "\n",
    "\n",
    "plt.figure(figsize=(25,6))\n",
    "\n",
    "plt.rc('font', size=15)\n",
    "\n",
    "plt.title('Most Popular Genres')\n",
    "plt.xlabel('Movie Genres')\n",
    "plt.ylabel('Profit USD In Billion')\n",
    "plt.bar(x,y)\n",
    "\n",
    "\n",
    "\n",
    "# plt.tick_params(axis='x', rotation=70)\n",
    "# plt.xticks(rotation=\"vertical\")\n",
    "\n",
    "\n",
    "# production_list & profit \n",
    "# genre_list & profit"
   ]
  },
  {
   "cell_type": "markdown",
   "metadata": {},
   "source": [
    "##  Chart: Production Company Who Made The Most Popular  \n"
   ]
  },
  {
   "cell_type": "raw",
   "metadata": {},
   "source": []
  },
  {
   "cell_type": "code",
   "execution_count": null,
   "metadata": {},
   "outputs": [],
   "source": []
  },
  {
   "cell_type": "code",
   "execution_count": null,
   "metadata": {},
   "outputs": [],
   "source": []
  },
  {
   "cell_type": "code",
   "execution_count": null,
   "metadata": {},
   "outputs": [],
   "source": []
  },
  {
   "cell_type": "code",
   "execution_count": null,
   "metadata": {},
   "outputs": [],
   "source": []
  },
  {
   "cell_type": "markdown",
   "metadata": {},
   "source": [
    "## Plan of Attack Recap\n",
    "\n",
    "1. I would like to sort my data by profit in a descendind order, this way the most popular movies that made the most money will be a the top **Complete**\n",
    "\n",
    "2. Grab the first 100 movies from that list **Complete**\n",
    "\n",
    "3. Use the list of 100 to answer my questions via coding **Complete**\n",
    "\n",
    "4. Create visuals for a non coder to understand the coded answers to my questions **Complete** "
   ]
  },
  {
   "cell_type": "markdown",
   "metadata": {},
   "source": [
    "## Resources "
   ]
  },
  {
   "cell_type": "markdown",
   "metadata": {},
   "source": [
    "## Original Source For Data\n",
    "\n",
    "https://www.kaggle.com/rounakbanik/the-movies-dataset#movies_metadata.csv\n",
    "\n",
    "\n",
    "## Libraries \n",
    "\n",
    "Statistics:\n",
    "\n",
    "https://docs.python.org/3/library/statistics.html\n",
    "\n",
    "\n",
    "Numpy:\n",
    "\n",
    "https://numpy.org/\n",
    "\n",
    "\n",
    "Seaborn:\n",
    "\n",
    "https://seaborn.pydata.org/introduction.html\n",
    "\n",
    "\n",
    "Matplotlib:\n",
    "\n",
    "https://matplotlib.org/users/index.html\n",
    "\n",
    "\n",
    "Pandas:\n",
    "\n",
    "https://pandas.pydata.org/docs/user_guide/index.html\n",
    "\n",
    "\n",
    "## Data Manipulation \n",
    "\n",
    "Sorting by Columns:\n",
    "\n",
    "https://pandas.pydata.org/pandas-docs/stable/reference/api/pandas.DataFrame.sort_values.html\n",
    "\n"
   ]
  },
  {
   "cell_type": "markdown",
   "metadata": {},
   "source": [
    "## Plot Styling"
   ]
  },
  {
   "cell_type": "markdown",
   "metadata": {},
   "source": [
    "Font Size: \n",
    "\n",
    "https://stackoverflow.com/questions/3899980/how-to-change-the-font-size-on-a-matplotlib-plot\n",
    "\n",
    "Font Rotation:\n",
    "\n",
    "https://matplotlib.org/3.1.0/tutorials/text/text_intro.html"
   ]
  },
  {
   "cell_type": "markdown",
   "metadata": {},
   "source": [
    "## Human Resources \n",
    "\n",
    "Lindsey Berlin Flatiron School Data Science Coach\n",
    "\n",
    "Bryan Arnold Flatiron School Data Science Lead Instrutor \n",
    "\n",
    "Flatiron School 021720 Cohort \n",
    "\n"
   ]
  }
 ],
 "metadata": {
  "kernelspec": {
   "display_name": "Python 3",
   "language": "python",
   "name": "python3"
  },
  "language_info": {
   "codemirror_mode": {
    "name": "ipython",
    "version": 3
   },
   "file_extension": ".py",
   "mimetype": "text/x-python",
   "name": "python",
   "nbconvert_exporter": "python",
   "pygments_lexer": "ipython3",
   "version": "3.6.9"
  }
 },
 "nbformat": 4,
 "nbformat_minor": 2
}
